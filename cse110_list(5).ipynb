{
  "cells": [
    {
      "cell_type": "code",
      "execution_count": null,
      "metadata": {
        "colab": {
          "base_uri": "https://localhost:8080/"
        },
        "id": "YheGN1r--iRt",
        "outputId": "e173b400-70dc-4209-b349-43f91ba508f4"
      },
      "outputs": [
        {
          "name": "stdout",
          "output_type": "stream",
          "text": [
            "3\n",
            "5\n",
            "-34\n",
            "0\n",
            "5\n",
            "['3', '5', '-34', '0', '5']\n"
          ]
        }
      ],
      "source": [
        "#task-1\n",
        "a=[]\n",
        "for i in range (5):\n",
        "   n=input()\n",
        "   a.append(n)\n",
        "print(a)"
      ]
    },
    {
      "cell_type": "code",
      "execution_count": null,
      "metadata": {
        "colab": {
          "base_uri": "https://localhost:8080/"
        },
        "id": "zBQBsz9o4TyB",
        "outputId": "191426c8-ceea-4147-ed68-066b2b0e8a88"
      },
      "outputs": [
        {
          "name": "stdout",
          "output_type": "stream",
          "text": [
            "[24]\n"
          ]
        }
      ],
      "source": [
        "#task-2\n",
        "n=[10, 20, 24, 25, 26]\n",
        "for i in range(len(n)):\n",
        "\n",
        "   if len(n)>4:\n",
        "     a=n[2:len(n)-2]\n",
        "   else:\n",
        "\n",
        "     print(\"not possible\")\n",
        "print(a)\n"
      ]
    },
    {
      "cell_type": "code",
      "execution_count": null,
      "metadata": {
        "colab": {
          "base_uri": "https://localhost:8080/"
        },
        "id": "boI_KiVBoIVy",
        "outputId": "a3e2491d-050a-4d92-9036-d4d238cc42e8"
      },
      "outputs": [
        {
          "name": "stdout",
          "output_type": "stream",
          "text": [
            "10, 20, 24, 25, 26\n",
            "[10, 20, 24, 25, 26]\n",
            "[24]\n"
          ]
        }
      ],
      "source": [
        "#task-2\n",
        "n=input()\n",
        "\n",
        "a=\"\"\n",
        "for i in n:\n",
        "  if i==\" \":\n",
        "    pass\n",
        "  else:\n",
        "    a=a+i\n",
        "a = a + \",\"\n",
        "new_a=[]\n",
        "store=\"\"\n",
        "for i in a:\n",
        "  if i !=\",\":\n",
        "    store+=i\n",
        "  else:\n",
        "    new_a.append(int(store))\n",
        "    store=\"\"\n",
        "print(new_a)\n",
        "#for i in range (len(new_a)):  a.append()\n",
        "if len(new_a)>=4:\n",
        "  final=new_a[2:len(new_a)-2]\n",
        "  print(final)\n",
        "else:\n",
        "  print(\"not possible\")"
      ]
    },
    {
      "cell_type": "code",
      "execution_count": null,
      "metadata": {
        "colab": {
          "base_uri": "https://localhost:8080/"
        },
        "id": "LMKmbdQVwSvJ",
        "outputId": "a9e52077-3f94-44fa-f28e-2f95f7dfce73"
      },
      "outputs": [
        {
          "name": "stdout",
          "output_type": "stream",
          "text": [
            "5\n",
            "-5\n",
            "100\n",
            "1\n",
            "0\n",
            "['0', '1', '100', '-5', '5']\n",
            "0\n",
            "1\n",
            "100\n",
            "-5\n",
            "5\n"
          ]
        }
      ],
      "source": [
        "#task-3\n",
        "a=[]\n",
        "for i in range(5):\n",
        "  n=input()\n",
        "  a.append(n)\n",
        "a1=a[::-1]\n",
        "print(a1 )\n",
        "for i in a1:\n",
        "  #print(\"printing value of the reverse order:\")\n",
        "  print(i)"
      ]
    },
    {
      "cell_type": "code",
      "execution_count": null,
      "metadata": {
        "colab": {
          "base_uri": "https://localhost:8080/"
        },
        "id": "sUU-ixu8wSzN",
        "outputId": "cc9bc468-67c6-4cb8-8e37-51d718ec38da"
      },
      "outputs": [
        {
          "name": "stdout",
          "output_type": "stream",
          "text": [
            "[1, 4, 9, 16, 25, 36, 49]\n"
          ]
        }
      ],
      "source": [
        "#task-4\n",
        "n=[1, 2, 3, 4, 5, 6, 7]\n",
        "a=[]\n",
        "for i in n:\n",
        "  b=i**2\n",
        "  a.append(b)\n",
        "print(a)"
      ]
    },
    {
      "cell_type": "code",
      "execution_count": null,
      "metadata": {
        "colab": {
          "base_uri": "https://localhost:8080/"
        },
        "id": "62tfWJH4m1lH",
        "outputId": "7ba2e4d7-fa7c-4874-9109-ba0a99fdee03"
      },
      "outputs": [
        {
          "name": "stdout",
          "output_type": "stream",
          "text": [
            "['hey', 'there', \"what's\", 'up', '?']\n"
          ]
        }
      ],
      "source": [
        "#task-5\n",
        "a=[\"hey\", \"there\", \"\", \"what's\", \"\", \"up\", \"\", \"?\"]\n",
        "a1=[]\n",
        "for i in a:\n",
        "  if i ==\"\":\n",
        "    pass\n",
        "  else:\n",
        "    a1.append(i)\n",
        "print(a1)"
      ]
    },
    {
      "cell_type": "code",
      "execution_count": null,
      "metadata": {
        "colab": {
          "background_save": true
        },
        "id": "LNcCA92fwTCe",
        "outputId": "b37784e7-c29d-4739-9dbd-3089c568d067"
      },
      "outputs": [
        {
          "name": "stdout",
          "output_type": "stream",
          "text": [
            "13\n"
          ]
        }
      ],
      "source": [
        "#task-6\n",
        "n=7, 13, 2, 10, 6, -11, 0\n",
        "maxval=n[0]\n",
        "for i in range(0,len(n)):\n",
        "  if maxval<n[i]:\n",
        "    maxval=n[i]\n",
        "print(maxval)\n",
        "\n"
      ]
    },
    {
      "cell_type": "code",
      "execution_count": null,
      "metadata": {
        "colab": {
          "base_uri": "https://localhost:8080/"
        },
        "id": "YDHr1yShZFjK",
        "outputId": "d8238066-f9fa-4dfd-810e-3f384ace20f1"
      },
      "outputs": [
        {
          "name": "stdout",
          "output_type": "stream",
          "text": [
            "7, 13, 2, 10, 6, -11, 0\n",
            "13\n"
          ]
        }
      ],
      "source": [
        " #task-6\n",
        "n=input()+\",\"\n",
        "a=[]\n",
        "store=\"\"\n",
        "for i in n:\n",
        "  if i !=\",\":\n",
        "    store+=i\n",
        "  else:\n",
        "    a.append(int(store))\n",
        "    store=\"\"\n",
        "max=a[0]\n",
        "for i in range(0,len(a)):\n",
        "  if max<a[i]:\n",
        "    max=a[i]\n",
        "print(max)\n",
        "index=0\n",
        "#for i in range a:\n",
        "print(index)"
      ]
    },
    {
      "cell_type": "code",
      "execution_count": null,
      "metadata": {
        "colab": {
          "base_uri": "https://localhost:8080/"
        },
        "id": "lcp9lphowTGJ",
        "outputId": "6ab22e4d-c89f-4c4d-cb70-030847b19916"
      },
      "outputs": [
        {
          "name": "stdout",
          "output_type": "stream",
          "text": [
            "[1, 4, 7, 6, 1, 3, 9]\n"
          ]
        }
      ],
      "source": [
        "#task-7\n",
        "l1=[1, 4, 7, 5]\n",
        "l2=[6, 1, 3, 9]\n",
        "a1=l1[0:3]\n",
        "new_l=a1+l2\n",
        "print(new_l)"
      ]
    },
    {
      "cell_type": "code",
      "execution_count": null,
      "metadata": {
        "colab": {
          "base_uri": "https://localhost:8080/"
        },
        "id": "ApjTS_Hj3zFW",
        "outputId": "a3820e64-f63a-43d5-c962-24fba850dbfa"
      },
      "outputs": [
        {
          "name": "stdout",
          "output_type": "stream",
          "text": [
            "[1, 2, 3, 4, 5, 6, 7, 8, 9, 10, 11, 12, -13, -14, -15, -16]\n",
            "[2, 4, 6, 8, 10, 12, -14, -16]\n"
          ]
        }
      ],
      "source": [
        "#task-8\n",
        "a1= [1, 2, 3, 4, 5, 6, 7, 8, 9]\n",
        "a2= [10, 11, 12, -13, -14, -15, -16]\n",
        "new=a1+a2\n",
        "print(new)\n",
        "even=[]\n",
        "for i in new:\n",
        "  if (i%2==0):\n",
        "    even.append(i)\n",
        "print(even)"
      ]
    },
    {
      "cell_type": "code",
      "execution_count": null,
      "metadata": {
        "id": "yaUjup8x3zI0"
      },
      "outputs": [],
      "source": [
        "#task-9\n",
        "a=[]\n",
        "n=input()+\" \"\n",
        "store=\"\"\n",
        "for i in n:\n",
        "  if i !=\" \":\n",
        "    store+=i\n",
        "\n",
        "  else:\n",
        "    a.append(int(store))\n",
        "    store=\"\"\n",
        "print(\"original list\",a)\n",
        "odd=[]\n",
        "for i in a:\n",
        "  if (i%2!=0):\n",
        "    odd.append(i)\n",
        "print(\"modified list\",odd)"
      ]
    },
    {
      "cell_type": "code",
      "execution_count": null,
      "metadata": {
        "colab": {
          "base_uri": "https://localhost:8080/"
        },
        "id": "UWwOw7Hg_Fzi",
        "outputId": "4c8c5d3d-f009-45e8-d3b4-e6f7683702db"
      },
      "outputs": [
        {
          "name": "stdout",
          "output_type": "stream",
          "text": [
            "0, 0, 1, 2, 3, 4, 4, 5, 6, 6, 6, 7, 8, 9, 4, 4\n",
            "[0, 1, 2, 3, 5, 6, 7, 8, 9, 4]\n"
          ]
        }
      ],
      "source": [
        "#task-10\n",
        "n=input()\n",
        "a=[]\n",
        "store=\"\"\n",
        "for i in n:\n",
        "  if i !=\",\":\n",
        "    store+=i\n",
        "  else:\n",
        "    a.append(int(store))\n",
        "    store=\"\"\n",
        "\n",
        "new_a=[]\n",
        "new_n=\"\"\n",
        "for i in range(0,len(a)):\n",
        "  flag=False\n",
        "  for j in range(i+1,len(a)):\n",
        "      if a[i]==a[j]:\n",
        "        flag=True\n",
        "        break\n",
        "  if flag==False:\n",
        "    new_a.append(a[i])\n",
        "\n",
        "\n",
        "\n",
        "print(new_a)"
      ]
    },
    {
      "cell_type": "code",
      "execution_count": null,
      "metadata": {
        "id": "8X6RXwTh84Ww"
      },
      "outputs": [],
      "source": [
        "a_list=[0, 0, 1, 2, 3, 4, 4, 5, 6, 6, 6, 7, 8, 9, 4, 4]\n",
        "a=[]\n",
        "for i in a_list:\n",
        "  if i not in a:\n",
        "    a.append(i)\n",
        "  else:\n",
        "    pass\n",
        "print(a)"
      ]
    },
    {
      "cell_type": "code",
      "execution_count": null,
      "metadata": {
        "colab": {
          "base_uri": "https://localhost:8080/"
        },
        "id": "MymjwQ2_9oV8",
        "outputId": "fcede9f3-dfd3-42ac-e262-4cb081e21f64"
      },
      "outputs": [
        {
          "name": "stdout",
          "output_type": "stream",
          "text": [
            "0, 0, 1, 2, 3, 4, 4, 5, 6, 6, 6, 7, 8, 9, 4, 4\n",
            "[0, 1, 2, 3, 4, 5, 6, 7, 8, 9]\n"
          ]
        }
      ],
      "source": [
        "#task-10 - |_|\n",
        "n=input()+\",\"\n",
        "a=[]\n",
        "store=\"\"\n",
        "for i in n:\n",
        "  if i!=\",\":\n",
        "    store+=i\n",
        "  else:\n",
        "    a.append(int(store))\n",
        "    store=\"\"\n",
        "new_a=[]\n",
        "for i in a:\n",
        "  if i not in new_a:\n",
        "    new_a.append(i)\n",
        "  else:\n",
        "    pass\n",
        "print(new_a)\n",
        "\n"
      ]
    },
    {
      "cell_type": "code",
      "execution_count": null,
      "metadata": {
        "colab": {
          "base_uri": "https://localhost:8080/"
        },
        "id": "DDfJbTPZAHsn",
        "outputId": "6b76aa55-e49e-4ca9-db95-5ff083af0518"
      },
      "outputs": [
        {
          "name": "stdout",
          "output_type": "stream",
          "text": [
            "True\n"
          ]
        }
      ],
      "source": [
        "#task-11\n",
        "a1=[1, 4, 3, 2,6]\n",
        "a2=[5, 6, 9, 8, 7]\n",
        "flag=False\n",
        "for i in a1:\n",
        "  for j in a2:\n",
        "    if i==j:\n",
        "      flag=True\n",
        "      break\n",
        "print(flag)"
      ]
    },
    {
      "cell_type": "code",
      "execution_count": null,
      "metadata": {
        "colab": {
          "base_uri": "https://localhost:8080/"
        },
        "id": "BHaQ9Ap6Vsuk",
        "outputId": "4951cc0c-c768-42e8-bba7-28805ed707f3"
      },
      "outputs": [
        {
          "name": "stdout",
          "output_type": "stream",
          "text": [
            "1st max val: 13\n",
            "2nd max val: 10\n",
            "min value: -11\n",
            "2nd min val: 0\n"
          ]
        }
      ],
      "source": [
        "#task-16\n",
        "n=[7, 13, 2, 10, 6, -11, 0]\n",
        "new_n=[]\n",
        "for i in n:\n",
        "  if i not in new_n:\n",
        "    new_n.append(i)\n",
        "  else:\n",
        "    pass\n",
        "max=new_n[0]\n",
        "for i in new_n:\n",
        "  if max<i:\n",
        "    max=i\n",
        "print(\"1st max val:\",max)\n",
        "max2=new_n[0]\n",
        "for i in new_n:\n",
        "  if max2<i and i!=max:\n",
        "    max2=i\n",
        "print(\"2nd max val:\",max2)\n",
        "min=new_n[0]\n",
        "for i in new_n:\n",
        "  if min>i:\n",
        "    min=i\n",
        "print(\"min value:\",min)\n",
        "min2=new_n[0]\n",
        "for i in new_n:\n",
        "  if min2>i and i!=min:\n",
        "    min2=i\n",
        "print(\"2nd min val:\",min2)"
      ]
    },
    {
      "cell_type": "code",
      "execution_count": null,
      "metadata": {
        "colab": {
          "base_uri": "https://localhost:8080/"
        },
        "id": "7jgzCOdYDIee",
        "outputId": "693d4739-eb0e-471c-8e12-957176023479"
      },
      "outputs": [
        {
          "output_type": "stream",
          "name": "stdout",
          "text": [
            "['3', '4']\n"
          ]
        }
      ],
      "source": [
        "#18\n",
        "n1=[1,2,3,4]\n",
        "n2=[3,4,5,6]\n",
        "a=[]\n",
        "for i in n1:\n",
        "  for j in n2:\n",
        "     if i==j:\n",
        "     #  elif i!=\",\" and i!=\" \":\n",
        "       a.append(str(i))\n",
        "print(a)"
      ]
    },
    {
      "cell_type": "code",
      "source": [],
      "metadata": {
        "id": "Gsfpn819YkOl"
      },
      "execution_count": null,
      "outputs": []
    },
    {
      "cell_type": "code",
      "execution_count": null,
      "metadata": {
        "colab": {
          "base_uri": "https://localhost:8080/"
        },
        "id": "hxa0n6O9wpQ7",
        "outputId": "5e42d5d6-b862-488c-8707-a0596dc2000d"
      },
      "outputs": [
        {
          "name": "stdout",
          "output_type": "stream",
          "text": [
            "[1, 2, 4, 5, 7, 99, 200, 303, 70, 3, 500, -5]\n"
          ]
        }
      ],
      "source": [
        "#task-19\n",
        "l_1= [1, 2, 2, 4, 5, 5, 7, 99, 200, 303, 70]\n",
        "l_2= [1, 1, 2, 3, 3, 3, 4, 5, 200, 500, -5]\n",
        "a=l_1+l_2\n",
        "new_a=[]\n",
        "for i in a:\n",
        "  if i not in new_a:\n",
        "      new_a.append(i)\n",
        "\n",
        "print(new_a)"
      ]
    },
    {
      "cell_type": "code",
      "execution_count": null,
      "metadata": {
        "id": "ZzESz54ZwpTk",
        "colab": {
          "base_uri": "https://localhost:8080/"
        },
        "outputId": "dadb8d2b-80f6-45cc-e06d-5c397fa521d8"
      },
      "outputs": [
        {
          "output_type": "stream",
          "name": "stdout",
          "text": [
            "5\n",
            "the 5 th seris are [1, 2, 3, 5, 8]\n",
            "2\n",
            "and 2 th value is 3\n"
          ]
        }
      ],
      "source": [
        "#fib of n and nth index value\n",
        "n=int(input())\n",
        "a1=0\n",
        "a2=1\n",
        "\n",
        "fib=[]\n",
        "for i in range(0,n):\n",
        "   a3=a1+a2\n",
        "   a1=a2\n",
        "   a2=a3\n",
        "   fib.append(a3)\n",
        "print(\"the\",n,\"th seris are\",fib)\n",
        "num=int(input())\n",
        "for i in fib:\n",
        "  if i==num:\n",
        "    index=fib[i]\n",
        "  else:\n",
        "    (\"invalid\")\n",
        "print(\"and\",num,\"th value is\",index)"
      ]
    },
    {
      "cell_type": "code",
      "source": [
        "##\n",
        "l1=[10,20,5,-5,4]\n",
        "l2=[\"hi\",\"hello\"]\n",
        "l3=[True,False]\n",
        "indx1=0\n",
        "indx2=0\n",
        "l=[]\n",
        "while(True):\n",
        "  if indx1>=len(l1) and indx2>=len(l3):\n",
        "    break\n",
        "  l+l2                   #appending a1 into l\n",
        "  if indx2<len(l1):\n",
        "    l.append(l1[indx1])     #two item from l1\n",
        "    indx1+=1\n",
        "  if indx2<len(l3):\n",
        "    l.append(l3(indx2))\n",
        "    indx2+=1\n",
        "print(l)"
      ],
      "metadata": {
        "colab": {
          "base_uri": "https://localhost:8080/",
          "height": 236
        },
        "id": "2t-XJivMiAaI",
        "outputId": "f463ac5f-ca41-45ce-915e-8cfe04dcdf63"
      },
      "execution_count": null,
      "outputs": [
        {
          "output_type": "error",
          "ename": "TypeError",
          "evalue": "ignored",
          "traceback": [
            "\u001b[0;31m---------------------------------------------------------------------------\u001b[0m",
            "\u001b[0;31mTypeError\u001b[0m                                 Traceback (most recent call last)",
            "\u001b[0;32m<ipython-input-10-05a624add369>\u001b[0m in \u001b[0;36m<module>\u001b[0;34m\u001b[0m\n\u001b[1;32m     14\u001b[0m     \u001b[0mindx1\u001b[0m\u001b[0;34m+=\u001b[0m\u001b[0;36m1\u001b[0m\u001b[0;34m\u001b[0m\u001b[0;34m\u001b[0m\u001b[0m\n\u001b[1;32m     15\u001b[0m   \u001b[0;32mif\u001b[0m \u001b[0mindx2\u001b[0m\u001b[0;34m<\u001b[0m\u001b[0mlen\u001b[0m\u001b[0;34m(\u001b[0m\u001b[0ml3\u001b[0m\u001b[0;34m)\u001b[0m\u001b[0;34m:\u001b[0m\u001b[0;34m\u001b[0m\u001b[0;34m\u001b[0m\u001b[0m\n\u001b[0;32m---> 16\u001b[0;31m     \u001b[0ml\u001b[0m\u001b[0;34m.\u001b[0m\u001b[0mappend\u001b[0m\u001b[0;34m(\u001b[0m\u001b[0ml3\u001b[0m\u001b[0;34m(\u001b[0m\u001b[0mindx2\u001b[0m\u001b[0;34m)\u001b[0m\u001b[0;34m)\u001b[0m\u001b[0;34m\u001b[0m\u001b[0;34m\u001b[0m\u001b[0m\n\u001b[0m\u001b[1;32m     17\u001b[0m     \u001b[0mindx2\u001b[0m\u001b[0;34m+=\u001b[0m\u001b[0;36m1\u001b[0m\u001b[0;34m\u001b[0m\u001b[0;34m\u001b[0m\u001b[0m\n\u001b[1;32m     18\u001b[0m \u001b[0mprint\u001b[0m\u001b[0;34m(\u001b[0m\u001b[0ml\u001b[0m\u001b[0;34m)\u001b[0m\u001b[0;34m\u001b[0m\u001b[0;34m\u001b[0m\u001b[0m\n",
            "\u001b[0;31mTypeError\u001b[0m: 'list' object is not callable"
          ]
        }
      ]
    },
    {
      "cell_type": "code",
      "source": [
        "#\n",
        "a=['abc', 'xyz', 'aba', '1221']\n",
        "# store=\"\"\n",
        "l=[]\n",
        "# for i in a:\n",
        "#   if i!=\",\":\n",
        "#     store=store+i\n",
        "#   else:\n",
        "#     l.append(store)\n",
        "#     store=\"\"\n",
        "count=0\n",
        "for i in a:\n",
        "  if len(a)>=2 and a[0]==a[-1]:\n",
        "    count+=1\n",
        "  else:\n",
        "    pass\n",
        "print(count,\" have same char in 1st and last\")\n"
      ],
      "metadata": {
        "id": "t4f0Kx4JlyBm",
        "colab": {
          "base_uri": "https://localhost:8080/"
        },
        "outputId": "04553e61-0059-47a1-b560-a82b12405b86"
      },
      "execution_count": null,
      "outputs": [
        {
          "output_type": "stream",
          "name": "stdout",
          "text": [
            "0  have same char in 1st and last\n"
          ]
        }
      ]
    },
    {
      "cell_type": "code",
      "execution_count": null,
      "metadata": {
        "id": "ntgwKQWTwpWU",
        "colab": {
          "base_uri": "https://localhost:8080/"
        },
        "outputId": "030426c4-0e69-43a1-b80a-8985eb9070da"
      },
      "outputs": [
        {
          "output_type": "stream",
          "name": "stdout",
          "text": [
            "[1, 4, 9, 16, 25] [676, 729, 784, 841, 900]\n"
          ]
        }
      ],
      "source": [
        "# first & last 5 square num of range 1-30\n",
        "a=[]\n",
        "for i in range(1,31):\n",
        "  a.append(i)\n",
        "b_list=[]\n",
        "for i in a:\n",
        "    b=i**2\n",
        "    b_list.append(b)\n",
        "print(b_list[:5],b_list[-5:])"
      ]
    },
    {
      "cell_type": "code",
      "execution_count": null,
      "metadata": {
        "id": "Am8Duv4-wpZT",
        "colab": {
          "base_uri": "https://localhost:8080/"
        },
        "outputId": "4cf90761-ea74-47ae-ea37-22011245710f"
      },
      "outputs": [
        {
          "output_type": "stream",
          "name": "stdout",
          "text": [
            "3\n",
            "5\n",
            "7\n",
            "9\n",
            "11\n",
            "13\n",
            "15\n",
            "17\n",
            "19\n"
          ]
        }
      ],
      "source": [
        "#task14\n",
        "\n",
        "myList = [0, 0, 0, 0, 0, 0, 0, 0, 0, 0]\n",
        "b = []\n",
        "index1 = 0\n",
        "index2 = 0\n",
        "index1 = 1\n",
        "b = myList\n",
        "while(index1<10):\n",
        "  myList[index1] = index1+2\n",
        "  index2 = 1\n",
        "  while(index2<index1):\n",
        "    myList[index1] = b[index1]+myList[index2]-index1\n",
        "    index2 = index2+1\n",
        "  print(myList[index1])\n",
        "  index1 = index1+1\n",
        "\n"
      ]
    },
    {
      "cell_type": "code",
      "source": [
        "print(-5//4)"
      ],
      "metadata": {
        "id": "AjJ8Y3rzpW0y",
        "colab": {
          "base_uri": "https://localhost:8080/"
        },
        "outputId": "50a0d827-ea9c-41de-89d7-0b576e9440a5"
      },
      "execution_count": null,
      "outputs": [
        {
          "output_type": "stream",
          "name": "stdout",
          "text": [
            "-2\n"
          ]
        }
      ]
    },
    {
      "cell_type": "code",
      "source": [],
      "metadata": {
        "id": "IlmLeeiDpW40"
      },
      "execution_count": null,
      "outputs": []
    },
    {
      "cell_type": "code",
      "source": [],
      "metadata": {
        "id": "Y9ZG3GcfpW82"
      },
      "execution_count": null,
      "outputs": []
    },
    {
      "cell_type": "code",
      "source": [],
      "metadata": {
        "id": "KCQ9qKWEpXAL"
      },
      "execution_count": null,
      "outputs": []
    }
  ],
  "metadata": {
    "colab": {
      "provenance": []
    },
    "kernelspec": {
      "display_name": "Python 3",
      "name": "python3"
    },
    "language_info": {
      "name": "python"
    }
  },
  "nbformat": 4,
  "nbformat_minor": 0
}