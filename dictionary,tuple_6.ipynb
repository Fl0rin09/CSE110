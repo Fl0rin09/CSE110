{
  "nbformat": 4,
  "nbformat_minor": 0,
  "metadata": {
    "colab": {
      "provenance": [],
      "authorship_tag": "ABX9TyObkvREK/fc+yHya+tMgdHc",
      "include_colab_link": true
    },
    "kernelspec": {
      "name": "python3",
      "display_name": "Python 3"
    },
    "language_info": {
      "name": "python"
    }
  },
  "cells": [
    {
      "cell_type": "markdown",
      "metadata": {
        "id": "view-in-github",
        "colab_type": "text"
      },
      "source": [
        "<a href=\"https://colab.research.google.com/github/Fl0rin09/CSE110/blob/main/dictionary%2Ctuple_6.ipynb\" target=\"_parent\"><img src=\"https://colab.research.google.com/assets/colab-badge.svg\" alt=\"Open In Colab\"/></a>"
      ]
    },
    {
      "cell_type": "code",
      "execution_count": null,
      "metadata": {
        "colab": {
          "base_uri": "https://localhost:8080/"
        },
        "id": "-TCoxRw590ke",
        "outputId": "16dd723c-78b4-4e97-911d-81351c359400"
      },
      "outputs": [
        {
          "output_type": "stream",
          "name": "stdout",
          "text": [
            "400\n"
          ]
        }
      ],
      "source": [
        "#tuple"
      ]
    },
    {
      "cell_type": "code",
      "source": [
        "#task-1\n",
        "a_tuple = (\"The Institute\", (\"Best Mystery & Thriller\", \"The Silent Patient\", 68821), 75717,\n",
        "[1, 2, 3, 400, 5, 6, 7],  (\"Best Fiction\", \"The Testaments\", 98291))\n",
        "a=a_tuple[3][3]\n",
        "print(a)"
      ],
      "metadata": {
        "id": "XL0xKdrLjwew",
        "colab": {
          "base_uri": "https://localhost:8080/"
        },
        "outputId": "5ece9fda-7e11-40c2-8a42-afad964d5569"
      },
      "execution_count": null,
      "outputs": [
        {
          "output_type": "stream",
          "name": "stdout",
          "text": [
            "400\n"
          ]
        }
      ]
    },
    {
      "cell_type": "code",
      "source": [
        "#task-2\n",
        "n=input()+\",\"\n",
        "a_list=[]\n",
        "store=\"\"\n",
        "\n",
        "for i in n:\n",
        "  if i!=\",\":     #if i !=\"(\" and i!=\")\":\n",
        "    store+=i\n",
        "  else:\n",
        "    a_list.append((store))\n",
        "    store=\"\"\n",
        "new_list= (a_list[2:-2])\n",
        "final_list=[]\n",
        "for i in new_list:\n",
        "  final_list.append(int(i))\n",
        "\n",
        "print(final_list)\n",
        "new_tuple=tuple(final_list)\n",
        "print(new_tuple)"
      ],
      "metadata": {
        "id": "mpIO5tgu_oFF",
        "colab": {
          "base_uri": "https://localhost:8080/"
        },
        "outputId": "904970d0-3566-429f-d509-79481671fd14"
      },
      "execution_count": null,
      "outputs": [
        {
          "output_type": "stream",
          "name": "stdout",
          "text": [
            "(10, 20, 24, 25, 26, 35, 70)\n",
            "[24, 25, 26]\n",
            "(24, 25, 26)\n"
          ]
        }
      ]
    },
    {
      "cell_type": "code",
      "source": [
        "n=(10, 20, 24, 25, 26, 35, 70)\n",
        "\n",
        "a=n[2:-2]\n",
        "print(a)"
      ],
      "metadata": {
        "colab": {
          "base_uri": "https://localhost:8080/"
        },
        "id": "C0ddUc3WTFNj",
        "outputId": "9b16ba5c-f1c9-4a43-ef98-40b5c030a8d4"
      },
      "execution_count": null,
      "outputs": [
        {
          "output_type": "stream",
          "name": "stdout",
          "text": [
            "(24, 25, 26)\n"
          ]
        }
      ]
    },
    {
      "cell_type": "code",
      "source": [
        "n=input()\n",
        "n.split"
      ],
      "metadata": {
        "id": "O98X486os7Lw"
      },
      "execution_count": null,
      "outputs": []
    },
    {
      "cell_type": "code",
      "source": [
        "#task-3\n",
        "book_info = (\n",
        "(\"Best Mystery & Thriller\",\"The Silent Patient\",68,821),\n",
        "(\"Best Horror\",\"The Institute\",75,717),\n",
        "(\"Best History & Biography\",\"The five\",31,783 ),\n",
        "(\"Best Fiction\",\"The Testaments\",98,291)\n",
        ")\n",
        "a=len(book_info)\n",
        "print(\"Size of the tuple is:\",a)\n",
        "for i in book_info:\n",
        "  print(i)"
      ],
      "metadata": {
        "colab": {
          "base_uri": "https://localhost:8080/"
        },
        "id": "2IxJfey3jvYh",
        "outputId": "71ce6657-0156-47f9-c381-3c1c1e821607"
      },
      "execution_count": null,
      "outputs": [
        {
          "output_type": "stream",
          "name": "stdout",
          "text": [
            "Size of the tuple is: 4\n",
            "('Best Mystery & Thriller', 'The Silent Patient', 68, 821)\n",
            "('Best Horror', 'The Institute', 75, 717)\n",
            "('Best History & Biography', 'The five', 31, 783)\n",
            "('Best Fiction', 'The Testaments', 98, 291)\n"
          ]
        }
      ]
    },
    {
      "cell_type": "code",
      "source": [
        "#task-4\n",
        "book_info = (\n",
        "(\"Best Mystery & Thriller\",\"The Silent Patient\",68821),\n",
        "(\"Best Horror\",\"The Institute\",75717),\n",
        "(\"Best History & Biography\",\"The five\",31783 ),\n",
        "(\"Best Fiction\",\"The Testaments\",98291)\n",
        ")\n",
        "a=list(book_info)\n",
        "for i in a:\n",
        "  category,name,vote=i\n",
        "  print(f\"{name} won the {category} category by {vote} votes\")"
      ],
      "metadata": {
        "id": "bGciL_essurD",
        "colab": {
          "base_uri": "https://localhost:8080/"
        },
        "outputId": "26244558-d556-4d55-e03c-c09d64c869e8"
      },
      "execution_count": null,
      "outputs": [
        {
          "output_type": "stream",
          "name": "stdout",
          "text": [
            "The Silent Patient won the Best Mystery & Thriller category by 68821 votes\n",
            "The Institute won the Best Horror category by 75717 votes\n",
            "The five won the Best History & Biography category by 31783 votes\n",
            "The Testaments won the Best Fiction category by 98291 votes\n"
          ]
        }
      ]
    },
    {
      "cell_type": "code",
      "source": [
        "#task-5\n",
        "n= (10, 8, 5, 2, 10, 15, 10, 8, 5, 8, 8, 2)\n",
        "num=int(input())\n",
        "counter=0\n",
        "for i in n:\n",
        "  if i ==num:\n",
        "    counter+=1\n",
        "\n",
        "print(num,\" appears\",counter, \"times in the tuple\")"
      ],
      "metadata": {
        "colab": {
          "base_uri": "https://localhost:8080/"
        },
        "id": "381yrUaKtQ6F",
        "outputId": "91069eec-7a35-4913-949d-cc9e9144a351"
      },
      "execution_count": null,
      "outputs": [
        {
          "output_type": "stream",
          "name": "stdout",
          "text": [
            "8\n",
            "8  appears 4 times in the tuple\n"
          ]
        }
      ]
    },
    {
      "cell_type": "code",
      "source": [
        "#task-6\n",
        "n= ('a', 'b', 'c', 'd', 'e', 'f', 'g', 'h')\n",
        "new=\"\"\n",
        "a_list=[]\n",
        "for i in n:\n",
        "  new=i+new\n",
        "for i in new:\n",
        "  a_list.append(i)\n",
        "print(a_list)\n",
        "reverse_tuple=tuple(a_list)\n",
        "print(reverse_tuple)"
      ],
      "metadata": {
        "colab": {
          "base_uri": "https://localhost:8080/"
        },
        "id": "Rbb-hnLouYe1",
        "outputId": "b759d8d9-b12e-4ddd-b36d-bcde832851de"
      },
      "execution_count": null,
      "outputs": [
        {
          "output_type": "stream",
          "name": "stdout",
          "text": [
            "['h', 'g', 'f', 'e', 'd', 'c', 'b', 'a']\n",
            "('h', 'g', 'f', 'e', 'd', 'c', 'b', 'a')\n"
          ]
        }
      ]
    },
    {
      "cell_type": "code",
      "source": [
        "#6\n",
        "n=('a', 'b', 'c', 'd', 'e', 'f', 'g', 'h')\n",
        "a=[]\n",
        "for i in range(len(n)-1,-1,-1):\n",
        "  a.append(n[i])\n",
        "print(a)"
      ],
      "metadata": {
        "colab": {
          "base_uri": "https://localhost:8080/"
        },
        "id": "o1AQiDlFRREM",
        "outputId": "600c7aef-0d54-4a1b-838a-8d9e73f767a8"
      },
      "execution_count": null,
      "outputs": [
        {
          "output_type": "stream",
          "name": "stdout",
          "text": [
            "['h', 'g', 'f', 'e', 'd', 'c', 'b', 'a']\n"
          ]
        }
      ]
    },
    {
      "cell_type": "code",
      "source": [
        "\n",
        "#task-7\n",
        "a={'Harry':15, 'Draco':8, 'Nevil':19}\n",
        "b={'Ginie':18, 'Luna': 14}\n",
        "new={}\n",
        "new.update(a)\n",
        "new.update(b)\n",
        "print(new)"
      ],
      "metadata": {
        "colab": {
          "base_uri": "https://localhost:8080/"
        },
        "id": "W3kz_-r5IUX_",
        "outputId": "5991bdb1-8e61-44f2-954e-bc64f9278513"
      },
      "execution_count": null,
      "outputs": [
        {
          "output_type": "stream",
          "name": "stdout",
          "text": [
            "{'Harry': 15, 'Draco': 8, 'Nevil': 19, 'Ginie': 18, 'Luna': 14}\n"
          ]
        }
      ]
    },
    {
      "cell_type": "code",
      "source": [
        "#task-8\n",
        "a={}\n",
        "n=int(input())\n",
        "sum=0\n",
        "#count=0\n",
        "for i in range(n):\n",
        "   key=input()\n",
        "   value=int(input())\n",
        "   a[key]=value\n",
        "   sum=sum+value\n",
        "   #count+=1\n",
        "av=sum//n\n",
        "print(\"Average is \",av)\n",
        "#for key,value in a.items()\n"
      ],
      "metadata": {
        "colab": {
          "base_uri": "https://localhost:8080/"
        },
        "id": "kZSfSiMhIUgG",
        "outputId": "996d528e-166c-40e1-a7b4-8f1e0855688e"
      },
      "execution_count": null,
      "outputs": [
        {
          "output_type": "stream",
          "name": "stdout",
          "text": [
            "2\n",
            "flo\n",
            "200\n",
            "rid\n",
            "400\n",
            "Average is  300\n"
          ]
        }
      ]
    },
    {
      "cell_type": "code",
      "source": [
        "#task-9\n",
        "exam_marks = {'Cierra Vega': 175, 'Alden Cantrell': 200, 'Kierra Gentry': 165, 'Pierre Cox': 190}\n",
        "new={}\n",
        "n=int(input())\n",
        "for key,value in exam_marks.items():\n",
        "  if n<value :\n",
        "    new[key]=value\n",
        "print(new)"
      ],
      "metadata": {
        "colab": {
          "base_uri": "https://localhost:8080/"
        },
        "id": "VtvBABtvIUlP",
        "outputId": "f6a772e7-7e37-42ca-dae7-59fa605897fb"
      },
      "execution_count": null,
      "outputs": [
        {
          "output_type": "stream",
          "name": "stdout",
          "text": [
            "170\n",
            "{'Cierra Vega': 175, 'Alden Cantrell': 200, 'Pierre Cox': 190}\n"
          ]
        }
      ]
    },
    {
      "cell_type": "code",
      "source": [
        "#10\n",
        "import math\n",
        "n={'sci fi': 12, 'mystery': 15, 'horror': 8, 'mythology': 10, 'young_adult': 4, 'adventure':14}\n",
        "max=-math.inf\n",
        "for i,j in n.items():\n",
        "  if j>max:\n",
        "    max=j\n",
        "    max_k=i\n",
        "print(max_k,max)"
      ],
      "metadata": {
        "id": "kWfyzvt5ICeX",
        "colab": {
          "base_uri": "https://localhost:8080/"
        },
        "outputId": "26a1793d-e4e0-4be9-8b9c-ae5f5c5fd05b"
      },
      "execution_count": null,
      "outputs": [
        {
          "output_type": "stream",
          "name": "stdout",
          "text": [
            "mystery 15\n"
          ]
        }
      ]
    },
    {
      "cell_type": "code",
      "source": [
        "#task-10\n",
        "n={'sci fi': 12, 'mystery': 15, 'horror': 8, 'mythology': 10, 'young_adult': 4, 'adventure':14}\n",
        "max_k=\"\"\n",
        "max_v=0\n",
        "for key,value in n.items():\n",
        "    if max_v<value:\n",
        "      max_k=key\n",
        "      max_v=value\n",
        "print(\"The highest selling book genre is\",max_k,\"and the number of books sold are\",max_v)"
      ],
      "metadata": {
        "colab": {
          "base_uri": "https://localhost:8080/"
        },
        "id": "_rcSxaLXIUpH",
        "outputId": "7795633e-af48-4e74-8ca4-1a4518cf6be8"
      },
      "execution_count": null,
      "outputs": [
        {
          "output_type": "stream",
          "name": "stdout",
          "text": [
            "The highest selling book genre is mystery and the number of books sold are 15\n"
          ]
        }
      ]
    },
    {
      "cell_type": "code",
      "source": [
        "n={'sci fi': 12, 'mystery': 15, 'horror': 8, 'mythology': 10, 'young_adult': 4, 'adventure':14}\n",
        "max_k=\"\"\n",
        "max=n['sci fi']\n",
        "for i in n.keys():\n",
        "  if max<n[i]:\n",
        "    max=n[i]\n",
        "    max_key=i\n",
        "print(max_key,max)"
      ],
      "metadata": {
        "id": "WUnMWVDzIUrg",
        "colab": {
          "base_uri": "https://localhost:8080/"
        },
        "outputId": "021d56c2-3d23-4bc2-ebd2-48ca1d3c239b"
      },
      "execution_count": null,
      "outputs": [
        {
          "output_type": "stream",
          "name": "stdout",
          "text": [
            "mystery 15\n"
          ]
        }
      ]
    },
    {
      "cell_type": "code",
      "source": [
        "#task-11\n",
        "n=\"Python programming is fun\"\n",
        "dict1={}\n",
        "new=\"\"\n",
        "for i in n:\n",
        "  if i!=\" \":\n",
        "    if  \"A\" <= i <= \"Z\":\n",
        "      x=chr(ord(i)+32)\n",
        "      new+=x\n",
        "    else:\n",
        "      new+=i\n",
        "print(new)\n",
        "for i in new:\n",
        "  if i not in dict1:\n",
        "    dict1[i]=1\n",
        "  else:\n",
        "    dict1[i]=dict1[i]+1\n",
        "\n",
        "print(dict1)"
      ],
      "metadata": {
        "id": "eRCAne5TIUu9",
        "colab": {
          "base_uri": "https://localhost:8080/"
        },
        "outputId": "f8248ebe-d929-4999-8388-dcb82425aee2"
      },
      "execution_count": null,
      "outputs": [
        {
          "output_type": "stream",
          "name": "stdout",
          "text": [
            "pythonprogrammingisfun\n",
            "{'p': 2, 'y': 1, 't': 1, 'h': 1, 'o': 2, 'n': 3, 'r': 2, 'g': 2, 'a': 1, 'm': 2, 'i': 2, 's': 1, 'f': 1, 'u': 1}\n"
          ]
        }
      ]
    },
    {
      "cell_type": "code",
      "source": [
        "#task-12\n",
        "dict_1 = {'A': [1, 2, 3], 'b': ['1', '2'], \"c\": [4, 5, 6, 7]}\n",
        "count=0\n",
        "for key,value in dict_1.items():\n",
        "   for i in dict_1[key]:\n",
        "     count+=1\n",
        "print(count)"
      ],
      "metadata": {
        "colab": {
          "base_uri": "https://localhost:8080/"
        },
        "id": "-7hvOnjNIUyW",
        "outputId": "4cbd0dd1-4d50-4c89-c967-db5f73a32cfd"
      },
      "execution_count": null,
      "outputs": [
        {
          "output_type": "stream",
          "name": "stdout",
          "text": [
            "9\n"
          ]
        }
      ]
    },
    {
      "cell_type": "code",
      "source": [
        "#task-13\n",
        "list_1 = [(\"a\", 1), (\"b\", 2), (\"a\", 3), (\"b\", 1), (\"a\", 2), (\"c\", 1)]\n",
        "a=[]\n",
        "b=[]\n",
        "c=[]\n",
        "for i in range(len(list_1)):\n",
        "  if list_1[i][0]==\"a\":\n",
        "    a.append(list_1[i][1])\n",
        "\n",
        "  elif list_1[i][0]==\"b\":\n",
        "    b.append(list_1[i][1])\n",
        "  elif list_1[i][0]==\"c\":\n",
        "    c.append(list_1[i][1])\n",
        "dict1={\"a\":a,\"b\":b,\"c\":c}\n",
        "print(dict1)"
      ],
      "metadata": {
        "id": "eBAbE33wIU1O",
        "colab": {
          "base_uri": "https://localhost:8080/"
        },
        "outputId": "e8ca42de-205a-4d85-9e29-8f302ad537f8"
      },
      "execution_count": null,
      "outputs": [
        {
          "output_type": "stream",
          "name": "stdout",
          "text": [
            "{'a': [1, 3, 2], 'b': [2, 1], 'c': [1]}\n"
          ]
        }
      ]
    },
    {
      "cell_type": "code",
      "source": [
        "#13\n",
        "list_1 = [ (\"b\", 2), (\"a\", 3), (\"b\", 1), (\"a\", 2), (\"c\", 1)]\n",
        "dict1={}\n",
        "l2=[]\n",
        "for i in list_1:\n",
        "  l2.append(i[1])\n",
        "  if i[0] not in dict1:\n",
        "    dict1[i[0]]=[i[1]]\n",
        "  else:\n",
        "   dict1[i[0]].append(i[1])\n",
        "print(l2)\n",
        "print(dict1)"
      ],
      "metadata": {
        "colab": {
          "base_uri": "https://localhost:8080/"
        },
        "id": "NLoLjXbP5bCM",
        "outputId": "5c9c262a-add0-43aa-e553-2027bb4f1731"
      },
      "execution_count": null,
      "outputs": [
        {
          "output_type": "stream",
          "name": "stdout",
          "text": [
            "[2, 3, 1, 2, 1]\n",
            "{'b': [2, 1], 'a': [3, 2], 'c': [1]}\n"
          ]
        }
      ]
    },
    {
      "cell_type": "code",
      "source": [
        "d = {\"a\": [\"Hello\", 2], \"b\": (1,2,3)}\n",
        "\n",
        "d[\"a\"].append(5)\n",
        "print(d[\"b\"][1])"
      ],
      "metadata": {
        "colab": {
          "base_uri": "https://localhost:8080/"
        },
        "id": "NCnJC9Ms-EiZ",
        "outputId": "59c5a57e-11d9-43c8-b4fa-ab09f4a59068"
      },
      "execution_count": null,
      "outputs": [
        {
          "output_type": "stream",
          "name": "stdout",
          "text": [
            "2\n"
          ]
        }
      ]
    },
    {
      "cell_type": "code",
      "source": [],
      "metadata": {
        "id": "MOw6_ld1HD7x"
      },
      "execution_count": null,
      "outputs": []
    },
    {
      "cell_type": "markdown",
      "source": [],
      "metadata": {
        "id": "KVdBtdswMXBB"
      }
    },
    {
      "cell_type": "code",
      "source": [
        "#task-15\n",
        "n=[(2, 3), (4, 5), (6, 7), (2, 8)]\n",
        "list1=[]\n",
        "sum=0\n",
        "for i in range(len(n)):\n",
        "  x=n[i][0]\n",
        "  y=n[i][1]\n",
        "  sum=x*y\n",
        "  list1.append(sum)\n",
        "print(list1)\n",
        "\n",
        "\n"
      ],
      "metadata": {
        "colab": {
          "base_uri": "https://localhost:8080/"
        },
        "id": "LuCuyx_bLXVC",
        "outputId": "3665ac84-cbb0-4539-cae2-f242015e877b"
      },
      "execution_count": null,
      "outputs": [
        {
          "output_type": "stream",
          "name": "stdout",
          "text": [
            "[6, 20, 42, 16]\n"
          ]
        }
      ]
    },
    {
      "cell_type": "code",
      "source": [
        "#15 [easy]\n",
        "alist=[(2, 3), (4, 5), (6, 7), (2, 8)]\n",
        "m=1\n",
        "new=[]\n",
        "for i in alist:\n",
        "  for j in i:\n",
        "    m=m*j\n",
        "  new.append(m)\n",
        "  m=1\n",
        "print(new)"
      ],
      "metadata": {
        "colab": {
          "base_uri": "https://localhost:8080/"
        },
        "id": "CF2crlDbJATu",
        "outputId": "fdc200ca-b77a-4e0e-8beb-657cdd3d7bb1"
      },
      "execution_count": null,
      "outputs": [
        {
          "output_type": "stream",
          "name": "stdout",
          "text": [
            "[6, 20, 42, 16]\n"
          ]
        }
      ]
    },
    {
      "cell_type": "code",
      "source": [
        "n=[(2, 3), (4, 5), (6, 7), (2, 8)]\n",
        "for i in range(len(n)):\n",
        "  x=n[i][0]\n",
        "print(x)"
      ],
      "metadata": {
        "colab": {
          "base_uri": "https://localhost:8080/"
        },
        "id": "q6tFHabn8zdA",
        "outputId": "7e6c7679-9206-48b8-a1ac-adee0c333930"
      },
      "execution_count": null,
      "outputs": [
        {
          "output_type": "stream",
          "name": "stdout",
          "text": [
            "2\n"
          ]
        }
      ]
    },
    {
      "cell_type": "code",
      "source": [
        "#task-16\n",
        "a_tuple = ( [1, 2, 3], [4, 5, 6], [7, 8, 9], [10, 11, 12])\n",
        "n=input()                                    #tuple er vitor list thakle tar element change kora jabe\n",
        "for i in range(len(a_tuple)):\n",
        "   a_tuple[i][-1]=n\n",
        "print(a_tuple)"
      ],
      "metadata": {
        "colab": {
          "base_uri": "https://localhost:8080/"
        },
        "id": "kzOfOHM79afa",
        "outputId": "1ef526b4-c94a-4677-a7a9-eb48432ccffc"
      },
      "execution_count": null,
      "outputs": [
        {
          "output_type": "stream",
          "name": "stdout",
          "text": [
            "abc\n",
            "([1, 2, 'abc'], [4, 5, 'abc'], [7, 8, 'abc'], [10, 11, 'abc'])\n"
          ]
        }
      ]
    },
    {
      "cell_type": "code",
      "source": [],
      "metadata": {
        "id": "-9OmoQfPHLau"
      },
      "execution_count": null,
      "outputs": []
    },
    {
      "cell_type": "markdown",
      "source": [],
      "metadata": {
        "id": "nPA8jMfaH_Jx"
      }
    },
    {
      "cell_type": "code",
      "source": [
        "#task-17\n",
        "my_dictionary = {'c1':'Red', 'c2':'Green', 'c3':None, 'd4':'Blue', 'a5':None}\n",
        "\n",
        "new={}\n",
        "for key, value in my_dictionary.items():\n",
        "   if value != None:\n",
        "        new[key]=value\n",
        "\n",
        "print(new)"
      ],
      "metadata": {
        "colab": {
          "base_uri": "https://localhost:8080/"
        },
        "id": "KcEUU1fGH_cY",
        "outputId": "93af15e2-0f18-4353-a8a1-a1f7bd5412e0"
      },
      "execution_count": null,
      "outputs": [
        {
          "output_type": "stream",
          "name": "stdout",
          "text": [
            "{'c1': 'Red', 'c2': 'Green', 'd4': 'Blue'}\n"
          ]
        }
      ]
    },
    {
      "cell_type": "code",
      "source": [
        "#Task-18\n",
        "dict_1 = {'a': 6, 'b': 7, 'c': 9, 'd': 8, 'e': 11, 'f': 12, 'g': 13}\n",
        "\n",
        "lower, upper = 9,12\n",
        "\n",
        "result_dict = {}\n",
        "for key, value in dict_1.items():\n",
        "   if lower <= value < upper:\n",
        "       result_dict[key]=value\n",
        "print(result_dict)"
      ],
      "metadata": {
        "colab": {
          "base_uri": "https://localhost:8080/"
        },
        "id": "8zv5ir-ELTvc",
        "outputId": "00db1a0c-f0f6-45e7-e659-c129adec6916"
      },
      "execution_count": null,
      "outputs": [
        {
          "output_type": "stream",
          "name": "stdout",
          "text": [
            "{'c': 9, 'e': 11}\n"
          ]
        }
      ]
    },
    {
      "cell_type": "code",
      "source": [
        "#task-19\n",
        "given_tuples = [(20, 80), (31, 80), (1, 22), (88, 11), (27, 11)]\n",
        "\n",
        "adict = {}\n",
        "\n",
        "# Group the tuples based on the second element\n",
        "for i in given_tuples:\n",
        "    elem_2 = i[1]\n",
        "    if elem_2 in adict:\n",
        "        adict[elem_2].append(i)\n",
        "    else:\n",
        "        adict[elem_2] = [i]\n",
        "\n",
        "print(adict)"
      ],
      "metadata": {
        "id": "sabCtGOuMGTi"
      },
      "execution_count": null,
      "outputs": []
    },
    {
      "cell_type": "code",
      "source": [
        "#create a tuple\n",
        "tuplex = 4, 8, 3\n",
        "print(tuplex)\n",
        "n1, n2, n3 = tuplex\n",
        "#unpack a tuple in variables\n",
        "print(n1 + n2 + n3)\n",
        "#the number of variables must be equal to the number of items of the tuple\n",
        "#n1, n2, n3, n4= tuplex"
      ],
      "metadata": {
        "colab": {
          "base_uri": "https://localhost:8080/"
        },
        "id": "m5jDVi9P6pRS",
        "outputId": "6b29c6cc-e5ad-49f8-d06f-df92301cd4ca"
      },
      "execution_count": null,
      "outputs": [
        {
          "output_type": "stream",
          "name": "stdout",
          "text": [
            "(4, 8, 3)\n",
            "15\n"
          ]
        }
      ]
    },
    {
      "cell_type": "code",
      "source": [
        "#create a tuple\n",
        "tuplex = (4, 6, 2, 8, 3, 1)\n",
        "print(tuplex)\n",
        "#tuples are immutable, so you can not add new elements\n",
        "#using merge of tuples with the + operator you can add an element and it will create a new tuple\n",
        "tuplex = tuplex + (9,)\n",
        "print(tuplex)\n",
        "#adding items in a specific index\n",
        "tuplex = tuplex[:5] + (15, 20, 25) + tuplex[:5]\n",
        "print(tuplex)\n",
        "#converting the tuple to list\n",
        "listx = list(tuplex)\n",
        "#use different ways to add items in list\n",
        "listx.append(30)\n",
        "tuplex = tuple(listx)\n",
        "print(tuplex)"
      ],
      "metadata": {
        "id": "nkQhOG9p7G-6"
      },
      "execution_count": null,
      "outputs": []
    },
    {
      "cell_type": "code",
      "source": [
        "#create a tuple\n",
        "tuplex = ((2, \"w\"),(3, \"r\"))\n",
        "print(dict((y, x) for x, y in tuplex))"
      ],
      "metadata": {
        "id": "15SmsssZ-4eN",
        "outputId": "18216ada-84b8-4c77-92f3-92dece077435",
        "colab": {
          "base_uri": "https://localhost:8080/"
        }
      },
      "execution_count": null,
      "outputs": [
        {
          "output_type": "stream",
          "name": "stdout",
          "text": [
            "{'w': 2, 'r': 3}\n"
          ]
        }
      ]
    },
    {
      "cell_type": "code",
      "source": [],
      "metadata": {
        "id": "IGrfDYqM-6p3"
      },
      "execution_count": null,
      "outputs": []
    },
    {
      "cell_type": "code",
      "source": [],
      "metadata": {
        "id": "LT-jFpqf-4hU"
      },
      "execution_count": null,
      "outputs": []
    },
    {
      "cell_type": "code",
      "source": [],
      "metadata": {
        "id": "LHujEVAE-4j6"
      },
      "execution_count": null,
      "outputs": []
    },
    {
      "cell_type": "code",
      "source": [],
      "metadata": {
        "id": "XqQNg-F0-4md"
      },
      "execution_count": null,
      "outputs": []
    },
    {
      "cell_type": "code",
      "source": [],
      "metadata": {
        "id": "NWZOQ2voLXrK"
      },
      "execution_count": null,
      "outputs": []
    },
    {
      "cell_type": "code",
      "source": [],
      "metadata": {
        "id": "JsIyEa2ILX-K"
      },
      "execution_count": null,
      "outputs": []
    }
  ]
}