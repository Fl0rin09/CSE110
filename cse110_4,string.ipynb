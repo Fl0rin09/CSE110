{
  "nbformat": 4,
  "nbformat_minor": 0,
  "metadata": {
    "colab": {
      "provenance": []
    },
    "kernelspec": {
      "name": "python3",
      "display_name": "Python 3"
    },
    "language_info": {
      "name": "python"
    }
  },
  "cells": [
    {
      "cell_type": "code",
      "source": [
        "2#task-1\n",
        "a=input()\n",
        "print(a[::-1])"
      ],
      "metadata": {
        "id": "Y1ZCNOLqA0ae",
        "colab": {
          "base_uri": "https://localhost:8080/"
        },
        "outputId": "757fe146-274c-4cdb-9a93-dcb09f4b33e0"
      },
      "execution_count": null,
      "outputs": [
        {
          "output_type": "stream",
          "name": "stdout",
          "text": [
            "cse110\n",
            "011esc\n"
          ]
        }
      ]
    },
    {
      "cell_type": "code",
      "source": [],
      "metadata": {
        "id": "5AtdoAEJltXm"
      },
      "execution_count": null,
      "outputs": []
    },
    {
      "cell_type": "code",
      "execution_count": null,
      "metadata": {
        "colab": {
          "base_uri": "https://localhost:8080/"
        },
        "id": "ITuLpEf0Va0M",
        "outputId": "68a1ad7f-2e5e-43a3-f51f-bbd2c245b860"
      },
      "outputs": [
        {
          "output_type": "stream",
          "name": "stdout",
          "text": [
            "cse110\n",
            "011esc"
          ]
        }
      ],
      "source": [
        "\n",
        "#task-1\n",
        "n=input()\n",
        "for i in range(len(n)-1,-1,-1):\n",
        "     print(n[i],end=\"\")"
      ]
    },
    {
      "cell_type": "code",
      "source": [
        " #task2\n",
        " n=input()\n",
        " i=int(input())\n",
        " #for a in range(i,-1,-1):\n",
        "\n",
        "print(n[i::-1]+n[i+1::1])\n"
      ],
      "metadata": {
        "colab": {
          "base_uri": "https://localhost:8080/"
        },
        "id": "jUhrQ5UC-g1h",
        "outputId": "eaa44bb9-426e-4b43-ba5e-3435a9a59f1c"
      },
      "execution_count": null,
      "outputs": [
        {
          "output_type": "stream",
          "name": "stdout",
          "text": [
            "72418\n",
            "2\n",
            "42718\n"
          ]
        }
      ]
    },
    {
      "cell_type": "code",
      "source": [
        "n=input()\n",
        "index=int(input())\n",
        "a=\"\"\n",
        "for i in range(index,-1,-1):\n",
        "    a=a+n[i]\n",
        "a=a+n[index+1:]\n",
        "print(a)"
      ],
      "metadata": {
        "colab": {
          "base_uri": "https://localhost:8080/"
        },
        "id": "j-oSclL-oKrU",
        "outputId": "6a881675-ebad-4a97-aa5b-c7c49eb8edc2"
      },
      "execution_count": null,
      "outputs": [
        {
          "output_type": "stream",
          "name": "stdout",
          "text": [
            "72418\n",
            "2\n",
            "42718\n"
          ]
        }
      ]
    },
    {
      "cell_type": "code",
      "source": [
        "#task-3\n",
        "n=input()\n",
        "count=0\n",
        "for i in range(0,len(n),1):\n",
        "  if(n[i]==\"1\" or n[i]==\"0\"):\n",
        "    count+=1\n",
        "if(count==len(n)):\n",
        "    print(\"binary\")\n",
        "else:\n",
        "    print(\"not binary\")\n"
      ],
      "metadata": {
        "colab": {
          "base_uri": "https://localhost:8080/"
        },
        "id": "-gXYVp5RoKvG",
        "outputId": "46e6f2b6-1095-462f-c2ba-da7c95bc27f9"
      },
      "execution_count": null,
      "outputs": [
        {
          "output_type": "stream",
          "name": "stdout",
          "text": [
            "111100021\n",
            "not binary\n"
          ]
        }
      ]
    },
    {
      "cell_type": "code",
      "execution_count": null,
      "metadata": {
        "colab": {
          "base_uri": "https://localhost:8080/"
        },
        "id": "oJFTIhp_VbCS",
        "outputId": "31252ff7-dcd7-4a2b-dee6-4b79b7667d62"
      },
      "outputs": [
        {
          "output_type": "stream",
          "name": "stdout",
          "text": [
            "bing\n",
            "binger\n"
          ]
        }
      ],
      "source": [
        "n=input()\n",
        "\n",
        "if n[len(n)-2:]==\"er\":\n",
        "  print(n[0:len(n)-2]+\"est\")\n",
        "elif n[len(n)-3:]==\"est\":\n",
        "  print(n)\n",
        "elif(len(n)>3):\n",
        "  print(n+\"er\")\n",
        "elif(len(n)<4):\n",
        "  print(n)"
      ]
    },
    {
      "cell_type": "code",
      "execution_count": null,
      "metadata": {
        "id": "ChkNMyFOgUGR"
      },
      "outputs": [],
      "source": [
        "#task-5\n",
        "n=input()\n",
        "count=0\n",
        "for i in range(len(n)):\n",
        "    count+=1\n",
        "    print(n[:count:])"
      ]
    },
    {
      "cell_type": "code",
      "source": [],
      "metadata": {
        "id": "RcAid_DHttP2"
      },
      "execution_count": null,
      "outputs": []
    },
    {
      "cell_type": "code",
      "source": [],
      "metadata": {
        "colab": {
          "base_uri": "https://localhost:8080/",
          "height": 130
        },
        "id": "9jJHN3RJyOzp",
        "outputId": "17a83da9-8a65-43a5-e1b8-d0d9ddbaee1a"
      },
      "execution_count": null,
      "outputs": [
        {
          "output_type": "error",
          "ename": "SyntaxError",
          "evalue": "ignored",
          "traceback": [
            "\u001b[0;36m  File \u001b[0;32m\"<ipython-input-4-7cf5dd2e2479>\"\u001b[0;36m, line \u001b[0;32m3\u001b[0m\n\u001b[0;31m    print([:i:])\u001b[0m\n\u001b[0m           ^\u001b[0m\n\u001b[0;31mSyntaxError\u001b[0m\u001b[0;31m:\u001b[0m invalid syntax\n"
          ]
        }
      ]
    },
    {
      "cell_type": "code",
      "execution_count": null,
      "metadata": {
        "id": "4fl68MFmhmws"
      },
      "outputs": [],
      "source": [
        "#task-5\n",
        "n=int(input())\n",
        "count=0\n",
        "for i in range(n):\n",
        "    count+=1\n",
        "    print(n[:count:])"
      ]
    },
    {
      "cell_type": "code",
      "source": [
        "#6\n",
        "n=input()\n",
        "for i in range(0,len(n)):\n",
        "  a=n[i]\n",
        "  b=ord(n[i])\n",
        "  print(a,\":\",b)"
      ],
      "metadata": {
        "colab": {
          "base_uri": "https://localhost:8080/"
        },
        "id": "kClR9jMyoKyU",
        "outputId": "6f895407-7a10-4df0-cf3f-ce13c3acb940"
      },
      "execution_count": null,
      "outputs": [
        {
          "output_type": "stream",
          "name": "stdout",
          "text": [
            "hunger\n",
            "h : 104\n",
            "u : 117\n",
            "n : 110\n",
            "g : 103\n",
            "e : 101\n",
            "r : 114\n"
          ]
        }
      ]
    },
    {
      "cell_type": "code",
      "execution_count": null,
      "metadata": {
        "colab": {
          "base_uri": "https://localhost:8080/"
        },
        "id": "47oTDUolrR2Q",
        "outputId": "3545c561-ee2b-4bae-d09a-eac3c2d80408"
      },
      "outputs": [
        {
          "output_type": "stream",
          "name": "stdout",
          "text": [
            "hunger\n",
            "h : 104\n",
            "u : 117\n",
            "n : 110\n",
            "g : 103\n",
            "e : 101\n",
            "r : 114\n"
          ]
        }
      ],
      "source": [
        "\n",
        "#task-6\n",
        "n=input()\n",
        "for i in range(len(n)):\n",
        "  print(n[i],\":\",ord(n[i]))"
      ]
    },
    {
      "cell_type": "code",
      "source": [
        "#task-7\n",
        "n=input()\n",
        "new=\"\"\n",
        "for i in n:\n",
        "  if i==\"z\":\n",
        "    new+=\"a\"\n",
        "  else:\n",
        "    new+=chr(ord(i)+1)\n",
        "print(new)"
      ],
      "metadata": {
        "id": "_8psnMNvT7xT",
        "colab": {
          "base_uri": "https://localhost:8080/"
        },
        "outputId": "3b437479-5abf-4d68-ff1c-807e7f7746d5"
      },
      "execution_count": null,
      "outputs": [
        {
          "output_type": "stream",
          "name": "stdout",
          "text": [
            "the cow\n",
            "uif!dpx\n"
          ]
        }
      ]
    },
    {
      "cell_type": "code",
      "source": [
        "word=input()\n",
        "new_word=\"\"\n",
        "for i in word :\n",
        "  asci=ord(i)\n",
        "  if i==ord(\"z\"):\n",
        "    new_word+=\"a\"\n",
        "  else:\n",
        "    new_word+=chr(asci+1)\n",
        "print(new_word)"
      ],
      "metadata": {
        "id": "cJcleJ76U3Vr",
        "colab": {
          "base_uri": "https://localhost:8080/"
        },
        "outputId": "e8c3bb33-fc82-4fb8-d8b9-2799674022dd"
      },
      "execution_count": null,
      "outputs": [
        {
          "output_type": "stream",
          "name": "stdout",
          "text": [
            "the cow\n",
            "uif!dpx\n"
          ]
        }
      ]
    },
    {
      "cell_type": "code",
      "source": [
        "word=input()\n",
        "new_word=\"\"\n",
        "for i in word :\n",
        "  asci=ord(i)\n",
        "  if i==\"z\":\n",
        "    new_word+=\"a\"\n",
        "  else:\n",
        "    new_word+=chr(asci+1)\n",
        "print(new_word)"
      ],
      "metadata": {
        "colab": {
          "base_uri": "https://localhost:8080/"
        },
        "outputId": "11b40492-3cea-410c-8b4e-9b8c27f80eb7",
        "id": "8yDaUhfU17y0"
      },
      "execution_count": null,
      "outputs": [
        {
          "output_type": "stream",
          "name": "stdout",
          "text": [
            "the cowz\n",
            "uif!dpxa\n"
          ]
        }
      ]
    },
    {
      "cell_type": "code",
      "source": [
        "#Task-9\n",
        "n=input()\n",
        "new=\"\"\n",
        "for i in n:\n",
        "  if new==\"\" or i!=new[len(new)-1]:\n",
        "    new+=i\n",
        "print(new)"
      ],
      "metadata": {
        "colab": {
          "base_uri": "https://localhost:8080/"
        },
        "id": "14VEOkL0CQn2",
        "outputId": "d77d9141-4912-4b98-d327-3037a524ffb1"
      },
      "execution_count": null,
      "outputs": [
        {
          "output_type": "stream",
          "name": "stdout",
          "text": [
            "aaabbbccaaa\n",
            "abca\n"
          ]
        }
      ]
    },
    {
      "cell_type": "code",
      "source": [
        "num=int(input())\n",
        "x=0\n",
        "y=0\n",
        "\n",
        "count=0\n",
        "while (num>x):\n",
        "  x=num%10\n",
        "  y=num//10\n",
        "  count+=1\n",
        "print(x)"
      ],
      "metadata": {
        "id": "YW0XG7vXCQuu"
      },
      "execution_count": null,
      "outputs": []
    },
    {
      "cell_type": "code",
      "source": [
        "num=int(input())\n",
        "x=0\n",
        "y=0\n",
        "\n",
        "count=0\n",
        "while (num>x):\n",
        "  x=num%10\n",
        "  y=num//10\n",
        "  count+=1\n",
        "print(count)"
      ],
      "metadata": {
        "id": "aSMAJysCPYSm"
      },
      "execution_count": null,
      "outputs": []
    },
    {
      "cell_type": "code",
      "source": [
        "#task-16\n",
        "n=input()\n",
        "letter=input()\n",
        "new_n=\"\"\n",
        "for i in n:\n",
        "  if i != letter:\n",
        "    new_n+=i\n",
        "if letter not in n and len(n)>3:\n",
        "  new_n=n[1:len(n)-1]\n",
        "print(new_n)"
      ],
      "metadata": {
        "id": "DvK86yoNCQ0d",
        "colab": {
          "base_uri": "https://localhost:8080/"
        },
        "outputId": "bce30b86-33cf-46c6-d884-91ceb66aa82c"
      },
      "execution_count": null,
      "outputs": [
        {
          "output_type": "stream",
          "name": "stdout",
          "text": [
            "florin\n",
            "a\n",
            "lori\n"
          ]
        }
      ]
    },
    {
      "cell_type": "code",
      "source": [
        "#task-17\n",
        "n=input()\n",
        "character=input()\n",
        "for i in n:\n",
        "  if i==character:\n",
        "    print()                #???????????????????????????\n",
        "  else:\n",
        "    print(i,end=\"\")"
      ],
      "metadata": {
        "id": "v5VRr2vvCQ8e",
        "colab": {
          "base_uri": "https://localhost:8080/"
        },
        "outputId": "fbbd1bd4-9d0c-4829-aa20-bdab310adc4a"
      },
      "execution_count": null,
      "outputs": [
        {
          "output_type": "stream",
          "name": "stdout",
          "text": [
            "this,is,cse\n",
            ",\n",
            "this\n",
            "is\n",
            "cse"
          ]
        }
      ]
    },
    {
      "cell_type": "code",
      "source": [
        "#task-18\n",
        "n=input()\n",
        "num=int(input())\n",
        "for i in n:\n",
        "  if num%2==0:\n",
        "    a=num*2\n",
        "  else:\n",
        "    a=num*3\n",
        "print(n*a)\n"
      ],
      "metadata": {
        "colab": {
          "base_uri": "https://localhost:8080/"
        },
        "id": "_jaFGibJ_iTN",
        "outputId": "6be550d0-ad02-43a5-be4b-0d7ece6f08db"
      },
      "execution_count": null,
      "outputs": [
        {
          "output_type": "stream",
          "name": "stdout",
          "text": [
            "cse110\n",
            "3\n",
            "cse110cse110cse110cse110cse110cse110cse110cse110cse110\n"
          ]
        }
      ]
    },
    {
      "cell_type": "code",
      "source": [],
      "metadata": {
        "id": "TkIoiab5_iV3"
      },
      "execution_count": null,
      "outputs": []
    },
    {
      "cell_type": "code",
      "source": [],
      "metadata": {
        "id": "18NWtnYg_iY8"
      },
      "execution_count": null,
      "outputs": []
    },
    {
      "cell_type": "code",
      "source": [],
      "metadata": {
        "id": "v_R_kKr2_icm"
      },
      "execution_count": null,
      "outputs": []
    },
    {
      "cell_type": "code",
      "source": [],
      "metadata": {
        "id": "q1rVbtSO_iow"
      },
      "execution_count": null,
      "outputs": []
    },
    {
      "cell_type": "code",
      "source": [],
      "metadata": {
        "id": "CP6veZWJ_iy6"
      },
      "execution_count": null,
      "outputs": []
    },
    {
      "cell_type": "code",
      "source": [],
      "metadata": {
        "id": "DseCmHhC_i2m"
      },
      "execution_count": null,
      "outputs": []
    }
  ]
}