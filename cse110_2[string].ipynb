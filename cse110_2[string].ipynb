{
  "nbformat": 4,
  "nbformat_minor": 0,
  "metadata": {
    "colab": {
      "provenance": []
    },
    "kernelspec": {
      "name": "python3",
      "display_name": "Python 3"
    },
    "language_info": {
      "name": "python"
    }
  },
  "cells": [
    {
      "cell_type": "code",
      "source": [
        "#Task-1\n",
        "A=int(input(\"enter your first number:\"))\n",
        "B=int(input(\"enter your second number:\"))\n",
        "C=A+B\n",
        "D=A*B\n",
        "E=A-B\n",
        "print(\"sum=\",C)\n",
        "print(\"product=\",D)\n",
        "print(\"difference=\",E)"
      ],
      "metadata": {
        "colab": {
          "base_uri": "https://localhost:8080/"
        },
        "id": "FXN47wQaMLG1",
        "outputId": "12132f00-9a82-4800-86d9-e6326f5a1ea6"
      },
      "execution_count": null,
      "outputs": [
        {
          "output_type": "stream",
          "name": "stdout",
          "text": [
            "enter your first number:4\n",
            "enter your second number:5\n",
            "sum= 9\n",
            "product= 20\n",
            "difference= -1\n"
          ]
        }
      ]
    },
    {
      "cell_type": "code",
      "source": [
        "#Task=2\n",
        "import math\n",
        "A=float(input(\"Enter the radius value:\"))\n",
        "B=math.pi*(A**2)\n",
        "print(\"Area is\",B)\n",
        "C=2*math.pi*A\n",
        "print(\"Circumference is\",C)\n"
      ],
      "metadata": {
        "id": "g2k3Ej_J-Y6T",
        "colab": {
          "base_uri": "https://localhost:8080/"
        },
        "outputId": "3a5d6588-b594-4da3-dd2f-5c496f60f105"
      },
      "execution_count": null,
      "outputs": [
        {
          "output_type": "stream",
          "name": "stdout",
          "text": [
            "Enter the radius value:4\n",
            "Area is 50.26548245743669\n",
            "Circumference is 25.132741228718345\n"
          ]
        }
      ]
    },
    {
      "cell_type": "code",
      "source": [
        "#Task-3\n",
        "num_1=int(input())\n",
        "num_2=int(input())\n",
        "\n",
        "if(num_1>num_2):\n",
        "  print(\"first is grater\")\n",
        "elif(num_1<num_2):\n",
        "  print(\"second is grater\")\n",
        "else:\n",
        "  print(\"the numbers are equal\")"
      ],
      "metadata": {
        "colab": {
          "base_uri": "https://localhost:8080/"
        },
        "id": "-e71U2XnzFj2",
        "outputId": "b326621b-cf89-40c9-89cc-25044d8cfd71"
      },
      "execution_count": null,
      "outputs": [
        {
          "output_type": "stream",
          "name": "stdout",
          "text": [
            "4\n",
            "5\n",
            "second is grater\n"
          ]
        }
      ]
    },
    {
      "cell_type": "code",
      "source": [
        "#Task-4\n",
        "num1=int(input(\"ënter your first number\"))\n",
        "num2=int(input(\"enter your second number\"))\n",
        "if(num1>num2):\n",
        "   print(num1-num2)\n",
        "else:\n",
        "   print(num2-num1)"
      ],
      "metadata": {
        "colab": {
          "base_uri": "https://localhost:8080/"
        },
        "id": "GGZaWdevzFtu",
        "outputId": "341c6ebf-8990-4c2b-9886-91827c409285"
      },
      "execution_count": null,
      "outputs": [
        {
          "output_type": "stream",
          "name": "stdout",
          "text": [
            "ënter your first number-40\n",
            "enter your second number-4\n",
            "36\n"
          ]
        }
      ]
    },
    {
      "cell_type": "code",
      "source": [
        "#Task-5\n",
        "num1=int(input())\n",
        "\n",
        "if(num1%2==0):\n",
        "  print(\"the number is even\")\n",
        "else:\n",
        "  print(\"the number is odd\")"
      ],
      "metadata": {
        "colab": {
          "base_uri": "https://localhost:8080/"
        },
        "id": "BYCinJGjzFw2",
        "outputId": "0aeb8626-eb48-435a-8a09-b4ebda017381"
      },
      "execution_count": null,
      "outputs": [
        {
          "output_type": "stream",
          "name": "stdout",
          "text": [
            "7\n",
            "the number is odd\n"
          ]
        }
      ]
    },
    {
      "cell_type": "code",
      "source": [
        " #Task-6\n",
        " A=int(input())\n",
        " if(A%2==0 or A%5==0):\n",
        "   print(A)\n",
        "else:\n",
        "   print(\"Not a multiple of 2 OR 5\")"
      ],
      "metadata": {
        "colab": {
          "base_uri": "https://localhost:8080/"
        },
        "id": "L2-9Lr-DzFz-",
        "outputId": "6885f8c1-6f17-4b00-effc-bd4f4dabab31"
      },
      "execution_count": null,
      "outputs": [
        {
          "output_type": "stream",
          "name": "stdout",
          "text": [
            "10\n",
            "10\n"
          ]
        }
      ]
    },
    {
      "cell_type": "code",
      "source": [
        "#Task-7\n",
        "A=int(input())\n",
        "if(A%2==0 and A%5==0):\n",
        "  print(\"multiple of 2 & 5 both\")\n",
        "elif (A%2==0 or A%5==0):\n",
        "  print(A)\n",
        "else:\n",
        "  print(\"not a multiple we want\")"
      ],
      "metadata": {
        "colab": {
          "base_uri": "https://localhost:8080/"
        },
        "outputId": "dd8a58a1-6818-430c-95b5-627cd8e7b4a4",
        "id": "6-kZgbeN7vYm"
      },
      "execution_count": null,
      "outputs": [
        {
          "output_type": "stream",
          "name": "stdout",
          "text": [
            "6\n",
            "6\n"
          ]
        }
      ]
    },
    {
      "cell_type": "code",
      "source": [
        "#Task-8\n",
        "A=int(input())\n",
        "if(A%2==0 and A%5==0):\n",
        "  print(\"multiple of 2 AND 5\")\n",
        "else:\n",
        "  print(\"Not multiple of 2 and 5 both\")"
      ],
      "metadata": {
        "colab": {
          "base_uri": "https://localhost:8080/"
        },
        "id": "oOwJ-t2W7OBO",
        "outputId": "c7cba447-3c90-4eb6-fb9a-0323689a5c8e"
      },
      "execution_count": null,
      "outputs": [
        {
          "output_type": "stream",
          "name": "stdout",
          "text": [
            "30\n",
            "multiple of 2 AND 5\n"
          ]
        }
      ]
    },
    {
      "cell_type": "code",
      "source": [
        "#Task-9\n",
        "a=int(input())\n",
        "h=a//3600\n",
        "s=a%3600\n",
        "m=s//60\n",
        "s=s%60\n",
        "print(\"hours:\",h, end=\" \")\n",
        "print(\"min:\",m, end=\" \")\n",
        "print(\"sec:\",s, end=\" \")"
      ],
      "metadata": {
        "colab": {
          "base_uri": "https://localhost:8080/"
        },
        "id": "vD0PXkV7MLMv",
        "outputId": "3ebc0207-03c2-4a14-f9ee-94562d51eda3"
      },
      "execution_count": null,
      "outputs": [
        {
          "output_type": "stream",
          "name": "stdout",
          "text": [
            "10000\n",
            "hours: 2 min: 46 sec: 40 "
          ]
        }
      ]
    },
    {
      "cell_type": "code",
      "source": [
        "#Task-10\n",
        "h=int(input())\n",
        "if(h<=40 and h>0):\n",
        "  a=h*200\n",
        "  print(a)\n",
        "elif(h>40 and h>=168):\n",
        "  b=8000+(100-40)*300\n",
        "  print(b)\n",
        "elif(h<0):\n",
        "  print(\"Hour cannot be negative\")\n",
        "else:\n",
        "  print(\"Impossible to work more than 168 hours weekly\")"
      ],
      "metadata": {
        "id": "ASu_HAtYMLOz",
        "colab": {
          "base_uri": "https://localhost:8080/"
        },
        "outputId": "17c144c0-7c83-4bf5-b9ce-fcf18c4fa778"
      },
      "execution_count": null,
      "outputs": [
        {
          "output_type": "stream",
          "name": "stdout",
          "text": [
            "48\n",
            "Impossible to work more than 168 hours weekly\n"
          ]
        }
      ]
    },
    {
      "cell_type": "code",
      "source": [
        "#Task-11\n",
        "S=int(input())\n",
        "if(S<100):\n",
        "  L=3000-125*S**2\n",
        "  print(L)\n",
        "else:\n",
        "  L=12000/(4+(S**2)/14900)\n",
        "  print(L)"
      ],
      "metadata": {
        "colab": {
          "base_uri": "https://localhost:8080/"
        },
        "id": "IXVm2D5h-atb",
        "outputId": "c4719805-de97-4216-af65-d43de61638f4"
      },
      "execution_count": null,
      "outputs": [
        {
          "output_type": "stream",
          "name": "stdout",
          "text": [
            "120\n",
            "2416.2162162162163\n"
          ]
        }
      ]
    },
    {
      "cell_type": "code",
      "source": [
        "#Task:12\n",
        "a=int(input(\"enter your time:\"))\n",
        "if(a<0 or a<23):\n",
        "  print(\"Invalid Time\")\n",
        "elif(4<= a <=6):\n",
        "  print(\"Breakfast\")\n",
        "elif(12<= a <=13):\n",
        "  print(\"Lunch\")\n",
        "elif(16<= a <=17):\n",
        "  print(\"Snacks\")\n",
        "elif(19<= a <=20):\n",
        "  print(\"Dinner\")\n",
        "else:\n",
        "  print(\"Patience is a virtue\")"
      ],
      "metadata": {
        "id": "Zv0yGz3ZDG_Y",
        "colab": {
          "base_uri": "https://localhost:8080/"
        },
        "outputId": "afcf177a-f0c8-4322-9795-53912e347658"
      },
      "execution_count": null,
      "outputs": [
        {
          "output_type": "stream",
          "name": "stdout",
          "text": [
            "enter your time:19\n",
            "Invalid Time\n"
          ]
        }
      ]
    },
    {
      "cell_type": "code",
      "source": [
        "#Task-13\n",
        "m=int(input(\"enter your mark:\"))\n",
        "\n",
        "if(m<0 or m>100):\n",
        "  print(\"invalid marks\")\n",
        "elif(90<= m <=100):\n",
        "  print(\"A\")\n",
        "elif(80<= m <=89):\n",
        "  print(\"B\")\n",
        "elif(70<= m <= 79):\n",
        "  print(\"C\")\n",
        "elif(60<= m <=69):\n",
        "  print(\"D\")\n",
        "elif(50<= m <=59):\n",
        "  print(\"E\")\n",
        "else:\n",
        "  print(\"fail\")"
      ],
      "metadata": {
        "id": "V0SKV7OFMLWR",
        "colab": {
          "base_uri": "https://localhost:8080/"
        },
        "outputId": "70b914fd-c81a-419e-c870-a8de490459d5"
      },
      "execution_count": null,
      "outputs": [
        {
          "output_type": "stream",
          "name": "stdout",
          "text": [
            "enter your mark:40\n",
            "fail\n"
          ]
        }
      ]
    },
    {
      "cell_type": "code",
      "source": [
        "#Task-14\n",
        "a=int(input(\"enter distance in meter:\"))\n",
        "b=int(input(\"enter time in second:\"))\n",
        "v=a/1000*b/3600\n",
        "if(v<60):\n",
        "  print(\"too slow.need more changes\")\n",
        "elif(60< v <90):\n",
        "  print(\"velocity is okey.the car is ready!\")\n",
        "elif(v<90):\n",
        "  print(\"too fast.only a few changes should suffice\")"
      ],
      "metadata": {
        "id": "_a9BHew4MLYV",
        "colab": {
          "base_uri": "https://localhost:8080/"
        },
        "outputId": "f4e3d13d-c8e6-40f5-d1ce-dd91661cc936"
      },
      "execution_count": null,
      "outputs": [
        {
          "output_type": "stream",
          "name": "stdout",
          "text": [
            "enter distance in meter:25400\n",
            "enter time in second:3600\n",
            "too slow.need more changes\n"
          ]
        }
      ]
    },
    {
      "cell_type": "code",
      "source": [
        "#Task-15\n",
        "a=float(input(\"enter your CGPA:\"))\n",
        "b=int(input(\"no of cradita completed:\"))\n",
        "if(a>=3.8 and b>=30):\n",
        "  if(3.8<= a <=3.89):\n",
        "    print(\"The student is eligible for a waiver of 25 percent.\")\n",
        "  elif(3.90<= a <=3.94):\n",
        "    print(\"The student is eligible for a waiver of 50 percent.\")\n",
        "  elif(3.95<= a <=3.99):\n",
        "    print(\"The student is eligible for a waiver of 75 percent.\")\n",
        "  elif(a==4.00):\n",
        "    print(\"The student is eligible for a waiver of 100 percent.\")\n",
        "else:\n",
        "  print(\"The student is not eligible for a waiver\")"
      ],
      "metadata": {
        "id": "kcyd-lznMLbQ",
        "colab": {
          "base_uri": "https://localhost:8080/"
        },
        "outputId": "52dfd9b6-4f88-411b-d9f7-e8888dbd0db0"
      },
      "execution_count": null,
      "outputs": [
        {
          "name": "stdout",
          "output_type": "stream",
          "text": [
            "enter your CGPA:9.99\n",
            "no of cradita completed:30\n"
          ]
        }
      ]
    },
    {
      "cell_type": "code",
      "source": [],
      "metadata": {
        "id": "D-MZysyflbpQ"
      },
      "execution_count": null,
      "outputs": []
    },
    {
      "cell_type": "code",
      "source": [],
      "metadata": {
        "id": "7_WnEsAFlbsr"
      },
      "execution_count": null,
      "outputs": []
    },
    {
      "cell_type": "code",
      "source": [],
      "metadata": {
        "id": "P3eu-JBqlbvO"
      },
      "execution_count": null,
      "outputs": []
    },
    {
      "cell_type": "code",
      "source": [],
      "metadata": {
        "id": "IgCHeH7Jlbxu"
      },
      "execution_count": null,
      "outputs": []
    },
    {
      "cell_type": "code",
      "source": [],
      "metadata": {
        "id": "LFmo2bLolb0D"
      },
      "execution_count": null,
      "outputs": []
    },
    {
      "cell_type": "code",
      "source": [],
      "metadata": {
        "id": "iqRnk__Slb2O"
      },
      "execution_count": null,
      "outputs": []
    },
    {
      "cell_type": "code",
      "source": [],
      "metadata": {
        "id": "U52FpQhRlb5r"
      },
      "execution_count": null,
      "outputs": []
    }
  ]
}