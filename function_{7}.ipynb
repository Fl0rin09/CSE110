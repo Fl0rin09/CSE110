{
  "cells": [
    {
      "cell_type": "markdown",
      "metadata": {
        "id": "view-in-github",
        "colab_type": "text"
      },
      "source": [
        "<a href=\"https://colab.research.google.com/github/Fl0rin09/CSE110/blob/main/function_%7B7%7D.ipynb\" target=\"_parent\"><img src=\"https://colab.research.google.com/assets/colab-badge.svg\" alt=\"Open In Colab\"/></a>"
      ]
    },
    {
      "cell_type": "code",
      "execution_count": null,
      "metadata": {
        "colab": {
          "base_uri": "https://localhost:8080/"
        },
        "id": "pdspcTDi_zHD",
        "outputId": "a0f8c945-ab10-4f60-844a-3be6f4ada327"
      },
      "outputs": [
        {
          "name": "stdout",
          "output_type": "stream",
          "text": [
            "5\n",
            "odd!!\n"
          ]
        }
      ],
      "source": [
        "\n",
        "\n",
        " #task-1\n",
        "def even_checker(a):      #3rd\n",
        "  if a%2==0:                #4th\n",
        "    print(\"even!!\")\n",
        "  else:\n",
        "    print(\"odd!!\")\n",
        "n=int(input())           #1st\n",
        "even_checker(n)           #2nd"
      ]
    },
    {
      "cell_type": "code",
      "execution_count": null,
      "metadata": {
        "colab": {
          "base_uri": "https://localhost:8080/"
        },
        "id": "SQful7FFVcah",
        "outputId": "71d24496-2541-40d0-b459-6545283c4cb9"
      },
      "outputs": [
        {
          "output_type": "stream",
          "name": "stdout",
          "text": [
            "10\n",
            "1 2 3 5 8 13 21 34 55 89 "
          ]
        }
      ],
      "source": [
        "#nth fibonacci\n",
        "def fib(x):\n",
        "  a1=0\n",
        "  a2=1\n",
        "  for i in range(n):\n",
        "      a3=a1+a2\n",
        "      a1=a2\n",
        "      a2=a3\n",
        "      print(a3,end=\" \")\n",
        "n=int(input())\n",
        "fib(n)"
      ]
    },
    {
      "cell_type": "code",
      "source": [
        "#task-2\n",
        "def fib(num):\n",
        "  a1=0\n",
        "  a2=1\n",
        "  a3=0\n",
        "  print(a1,a2,end=\" \")\n",
        "\n",
        "  while a3<num:\n",
        "       a3=a1+a2\n",
        "       print(a3,end=\" \")\n",
        "       a1=a2\n",
        "       a2=a3\n",
        "num=int(input())\n",
        "fib(num)"
      ],
      "metadata": {
        "colab": {
          "base_uri": "https://localhost:8080/"
        },
        "id": "oYWfCF0Wwtax",
        "outputId": "80e99277-8fd5-4210-e140-c10beb4af197"
      },
      "execution_count": null,
      "outputs": [
        {
          "output_type": "stream",
          "name": "stdout",
          "text": [
            "6\n",
            "0 1 1 2 3 5 8 "
          ]
        }
      ]
    },
    {
      "cell_type": "code",
      "source": [
        "def fib(num):\n",
        "  a1=0\n",
        "  a2=1\n",
        "  a3=0\n",
        "  print(a1,a2,end=\" \")\n",
        "  while a3<num:\n",
        "    a3=a1+a2\n",
        "    a1=a2\n",
        "    a2=a3\n",
        "    if a3<num:\n",
        "      print(a3,end=\" \")\n",
        "num=int(input())\n",
        "fib(num)"
      ],
      "metadata": {
        "id": "ipyIG1fOeMBd",
        "colab": {
          "base_uri": "https://localhost:8080/"
        },
        "outputId": "ce9a965a-3050-4d53-95e6-4933bfd053d7"
      },
      "execution_count": null,
      "outputs": [
        {
          "output_type": "stream",
          "name": "stdout",
          "text": [
            "10\n",
            "0 1 1 2 3 5 8 "
          ]
        }
      ]
    },
    {
      "cell_type": "code",
      "source": [
        "#task-3\n",
        "def foo_moo(num):\n",
        "  if num%2==0 and num%3==0:\n",
        "    return  \"FooMoo\"\n",
        "  if num%2==0:\n",
        "    return \"Foo\"\n",
        "  elif num%3==0:\n",
        "    return  \"Moo\"\n",
        "  else:\n",
        "    return \"Boo\"\n",
        "num=int(input())\n",
        "print(foo_moo(num))"
      ],
      "metadata": {
        "colab": {
          "base_uri": "https://localhost:8080/"
        },
        "id": "B7BEj8-9bcTw",
        "outputId": "affec075-b213-4b0b-c77f-e4b5d1f09834"
      },
      "execution_count": null,
      "outputs": [
        {
          "output_type": "stream",
          "name": "stdout",
          "text": [
            "5\n",
            "Boo\n"
          ]
        }
      ]
    },
    {
      "cell_type": "code",
      "source": [
        "#task-4\n",
        "def function_name(n):\n",
        "  upper=0\n",
        "  lower=0\n",
        "  for i in n:\n",
        "    if \"A\" <= i <=\"Z\":\n",
        "      upper+=1\n",
        "    elif \"a\"<= i <= \"z\":\n",
        "      lower+=1\n",
        "  print(\"uppercase:\",upper,\"lowercase\",lower)\n",
        "n=input()\n",
        "function_name(n)\n"
      ],
      "metadata": {
        "colab": {
          "base_uri": "https://localhost:8080/"
        },
        "id": "5RQjv-HHbcY4",
        "outputId": "b7536134-a239-4de2-a7c4-b5748532e4d2"
      },
      "execution_count": null,
      "outputs": [
        {
          "output_type": "stream",
          "name": "stdout",
          "text": [
            "The quick Sand Man\n",
            "uppercase: 3 lowercase 12\n"
          ]
        }
      ]
    },
    {
      "cell_type": "code",
      "source": [
        "#task-5\n",
        "def calculate_tax(age,salary,designation):\n",
        "  if age<=18:\n",
        "    return \"0\"\n",
        "  elif designation==\"president\":\n",
        "    return \"0\"\n",
        "  elif salary<10000:\n",
        "    return \"0\"\n",
        "  elif 10000<= salary <=20000:\n",
        "    tax=salary*(5/100)\n",
        "    return tax\n",
        "  elif salary>20000:\n",
        "    tax=salary*(10/100)\n",
        "    return tax\n",
        "\n",
        "age=int(input())\n",
        "salary=int(input())\n",
        "designation=input()\n",
        "print(calculate_tax(age,salary,designation))"
      ],
      "metadata": {
        "colab": {
          "base_uri": "https://localhost:8080/"
        },
        "id": "3XZ-s2pubcan",
        "outputId": "8365bab9-c512-44d0-c938-8d7345813482"
      },
      "execution_count": null,
      "outputs": [
        {
          "output_type": "stream",
          "name": "stdout",
          "text": [
            "22\n",
            "22000\n",
            "worker\n",
            "2200.0\n"
          ]
        }
      ]
    },
    {
      "cell_type": "markdown",
      "source": [],
      "metadata": {
        "id": "EWz1mduBeySd"
      }
    },
    {
      "cell_type": "markdown",
      "source": [
        "rakibv valoi"
      ],
      "metadata": {
        "id": "6TBIS94Re-J8"
      }
    },
    {
      "cell_type": "code",
      "source": [
        "#task-6\n",
        "def num_days(n):\n",
        "  y=n//365\n",
        "  d=n%365\n",
        "  m=d//30\n",
        "  day=d%30\n",
        "  print(\"year:\",y,\" month:\",m,\" day:\",day)\n",
        "num_days(int(input()))"
      ],
      "metadata": {
        "id": "Uupcdf5Sbccf",
        "colab": {
          "base_uri": "https://localhost:8080/"
        },
        "outputId": "f310617a-4e6d-45da-eff5-273be082ed36"
      },
      "execution_count": null,
      "outputs": [
        {
          "output_type": "stream",
          "name": "stdout",
          "text": [
            "4330\n",
            "year: 11  month: 10  day: 15\n"
          ]
        }
      ]
    },
    {
      "cell_type": "code",
      "source": [
        "#task7-8\n",
        "def show_palindrome(n):\n",
        "  for i in range(1,n+1):     #increase\n",
        "    print(i,end=\" \")\n",
        "  for i in range(n-1,0,-1):    #decrease\n",
        "    print(i,end=\" \")\n",
        "\n",
        "n=int(input())\n",
        "show_palindrome(n)"
      ],
      "metadata": {
        "colab": {
          "base_uri": "https://localhost:8080/"
        },
        "id": "q-MdhYcQw-mx",
        "outputId": "f70774d9-35e7-4217-81d1-0a0064397dac"
      },
      "execution_count": null,
      "outputs": [
        {
          "output_type": "stream",
          "name": "stdout",
          "text": [
            "10\n",
            "1 2 3 4 5 6 7 8 9 10 9 8 7 6 5 4 3 2 1 "
          ]
        }
      ]
    },
    {
      "cell_type": "code",
      "source": [
        "# def show_palindrome(n):\n",
        "#   for i in range(1,n+1):\n",
        "#     print(i,end=\" \")                                   @from task 7\n",
        "#   for j in range(n-1,0,-1):\n",
        "#     print(j,end=\" \")\n",
        "def show_palindromic_triangle(n):\n",
        "  for i in range(1,n+1):    #row\n",
        "    for j in range(n-i):     #space\n",
        "      print(\"  \" ,end=\"\")\n",
        "    show_palindrome(i)\n",
        "    print()\n",
        "show_palindromic_triangle(5)"
      ],
      "metadata": {
        "colab": {
          "base_uri": "https://localhost:8080/"
        },
        "id": "O6K_sWdNucni",
        "outputId": "2b6009cc-6ca2-4315-fc62-f2818c8fe7c2"
      },
      "execution_count": null,
      "outputs": [
        {
          "output_type": "stream",
          "name": "stdout",
          "text": [
            "        1 \n",
            "      1 2 1 \n",
            "    1 2 3 2 1 \n",
            "  1 2 3 4 3 2 1 \n",
            "1 2 3 4 5 4 3 2 1 \n"
          ]
        }
      ]
    },
    {
      "cell_type": "code",
      "source": [
        "def show_palindromic_triangle(n):\n",
        "    for i in range(1,n+1):\n",
        "      for j in range(n-i):\n",
        "        print(\" \",end=\"\")\n",
        "      x=show_palindrome(n)\n",
        "      for i in (x):\n",
        "        # for j in range(i+1,n-i):\n",
        "          print(i,end=\" \")\n",
        "      print()\n",
        "n=int(input())\n",
        "show_palindromic_triangle(n)"
      ],
      "metadata": {
        "colab": {
          "base_uri": "https://localhost:8080/",
          "height": 356
        },
        "id": "AN7u-mUunTHF",
        "outputId": "f96e2835-8460-4a5c-ffae-a7dff4c029c8"
      },
      "execution_count": null,
      "outputs": [
        {
          "output_type": "stream",
          "name": "stdout",
          "text": [
            "5\n",
            "    123454321"
          ]
        },
        {
          "output_type": "error",
          "ename": "TypeError",
          "evalue": "ignored",
          "traceback": [
            "\u001b[0;31m---------------------------------------------------------------------------\u001b[0m",
            "\u001b[0;31mTypeError\u001b[0m                                 Traceback (most recent call last)",
            "\u001b[0;32m<ipython-input-53-efc27d4927f7>\u001b[0m in \u001b[0;36m<module>\u001b[0;34m\u001b[0m\n\u001b[1;32m      9\u001b[0m       \u001b[0mprint\u001b[0m\u001b[0;34m(\u001b[0m\u001b[0;34m)\u001b[0m\u001b[0;34m\u001b[0m\u001b[0;34m\u001b[0m\u001b[0m\n\u001b[1;32m     10\u001b[0m \u001b[0mn\u001b[0m\u001b[0;34m=\u001b[0m\u001b[0mint\u001b[0m\u001b[0;34m(\u001b[0m\u001b[0minput\u001b[0m\u001b[0;34m(\u001b[0m\u001b[0;34m)\u001b[0m\u001b[0;34m)\u001b[0m\u001b[0;34m\u001b[0m\u001b[0;34m\u001b[0m\u001b[0m\n\u001b[0;32m---> 11\u001b[0;31m \u001b[0mshow_palindromic_triangle\u001b[0m\u001b[0;34m(\u001b[0m\u001b[0mn\u001b[0m\u001b[0;34m)\u001b[0m\u001b[0;34m\u001b[0m\u001b[0;34m\u001b[0m\u001b[0m\n\u001b[0m",
            "\u001b[0;32m<ipython-input-53-efc27d4927f7>\u001b[0m in \u001b[0;36mshow_palindromic_triangle\u001b[0;34m(n)\u001b[0m\n\u001b[1;32m      4\u001b[0m         \u001b[0mprint\u001b[0m\u001b[0;34m(\u001b[0m\u001b[0;34m\" \"\u001b[0m\u001b[0;34m,\u001b[0m\u001b[0mend\u001b[0m\u001b[0;34m=\u001b[0m\u001b[0;34m\"\"\u001b[0m\u001b[0;34m)\u001b[0m\u001b[0;34m\u001b[0m\u001b[0;34m\u001b[0m\u001b[0m\n\u001b[1;32m      5\u001b[0m       \u001b[0mx\u001b[0m\u001b[0;34m=\u001b[0m\u001b[0mshow_palindrome\u001b[0m\u001b[0;34m(\u001b[0m\u001b[0mn\u001b[0m\u001b[0;34m)\u001b[0m\u001b[0;34m\u001b[0m\u001b[0;34m\u001b[0m\u001b[0m\n\u001b[0;32m----> 6\u001b[0;31m       \u001b[0;32mfor\u001b[0m \u001b[0mi\u001b[0m \u001b[0;32min\u001b[0m \u001b[0;34m(\u001b[0m\u001b[0mx\u001b[0m\u001b[0;34m)\u001b[0m\u001b[0;34m:\u001b[0m\u001b[0;34m\u001b[0m\u001b[0;34m\u001b[0m\u001b[0m\n\u001b[0m\u001b[1;32m      7\u001b[0m         \u001b[0;31m# for j in range(i+1,n-i):\u001b[0m\u001b[0;34m\u001b[0m\u001b[0;34m\u001b[0m\u001b[0;34m\u001b[0m\u001b[0m\n\u001b[1;32m      8\u001b[0m           \u001b[0mprint\u001b[0m\u001b[0;34m(\u001b[0m\u001b[0mi\u001b[0m\u001b[0;34m,\u001b[0m\u001b[0mend\u001b[0m\u001b[0;34m=\u001b[0m\u001b[0;34m\" \"\u001b[0m\u001b[0;34m)\u001b[0m\u001b[0;34m\u001b[0m\u001b[0;34m\u001b[0m\u001b[0m\n",
            "\u001b[0;31mTypeError\u001b[0m: 'NoneType' object is not iterable"
          ]
        }
      ]
    },
    {
      "cell_type": "code",
      "source": [
        "def show_palindrome(n):\n",
        "  a=1\n",
        "  for i in range(n):\n",
        "    a=1\n",
        "    for j in range(i+1):\n",
        "      print(a,end=\"\")\n",
        "      a+=1\n",
        "    print()\n",
        "\n",
        "n=int(input())\n",
        "show_palindrome(n)\n"
      ],
      "metadata": {
        "id": "7h5Cd7hhbcfQ",
        "colab": {
          "base_uri": "https://localhost:8080/"
        },
        "outputId": "a18fbd89-9f78-4f12-da68-4a6d3fdba5fa"
      },
      "execution_count": null,
      "outputs": [
        {
          "output_type": "stream",
          "name": "stdout",
          "text": [
            "5\n",
            "1\n",
            "12\n",
            "123\n",
            "1234\n",
            "12345\n"
          ]
        }
      ]
    },
    {
      "cell_type": "code",
      "source": [
        "\n",
        "n=int(input())\n",
        "for i in range(1,n+1):\n",
        "  for j in range(1,i+1):\n",
        "    print(j,end=\"\")\n",
        "  print()\n"
      ],
      "metadata": {
        "id": "iPoE1_TXbciY",
        "colab": {
          "base_uri": "https://localhost:8080/"
        },
        "outputId": "070f5f64-3584-4cb5-f0ff-be15f0a159ef"
      },
      "execution_count": null,
      "outputs": [
        {
          "output_type": "stream",
          "name": "stdout",
          "text": [
            "5\n",
            "1\n",
            "12\n",
            "123\n",
            "1234\n",
            "12345\n"
          ]
        }
      ]
    },
    {
      "cell_type": "code",
      "source": [
        "\n",
        "n=int(input())\n",
        "for i in range(1,n+1):\n",
        "  for j in range(n-i):\n",
        "     print(\" \",end=\"\")\n",
        "  for j in range(1,i+1):\n",
        "    print(j,end=\"\")\n",
        "  for j in range(i-1,0, -1):\n",
        "    print(j,end=\"\")\n",
        "  print()\n"
      ],
      "metadata": {
        "colab": {
          "base_uri": "https://localhost:8080/"
        },
        "outputId": "37e02c7b-1224-4ab4-eaa3-b67ef351c9ea",
        "id": "cpAgtYzgq2YB"
      },
      "execution_count": null,
      "outputs": [
        {
          "output_type": "stream",
          "name": "stdout",
          "text": [
            "5\n",
            "    1\n",
            "   121\n",
            "  12321\n",
            " 1234321\n",
            "123454321\n"
          ]
        }
      ]
    },
    {
      "cell_type": "code",
      "source": [
        "n=int(input())\n",
        "\n",
        "for i in range(1,n):\n",
        "  p=1\n",
        "  for j in range(i):\n",
        "    print(p,end=\"\")\n",
        "    p+=1\n",
        "  for j in range(i+1):\n",
        "    print(p,end=\"\")\n",
        "    p-=1\n",
        "  print()"
      ],
      "metadata": {
        "colab": {
          "base_uri": "https://localhost:8080/"
        },
        "id": "VW3Vbijmtifc",
        "outputId": "b13081b3-3741-4320-9f9d-57d67d179eb8"
      },
      "execution_count": null,
      "outputs": [
        {
          "output_type": "stream",
          "name": "stdout",
          "text": [
            "5\n",
            "121\n",
            "12321\n",
            "1234321\n",
            "123454321\n"
          ]
        }
      ]
    },
    {
      "cell_type": "code",
      "source": [
        "#task-9\n",
        "import math\n",
        "def area_circumference_generator(r):\n",
        "  area=math.pi*(r**2)\n",
        "  circumference=2*math.pi*r\n",
        "\n",
        "  atuple=(area,circumference)\n",
        "  print(atuple)\n",
        "  # for i in atuple:\n",
        "  #area,circumference=atuple\n",
        "  a,c=atuple\n",
        "  print(f\"Area of the circle is {a}  and circumference is {c}\")\n",
        "r=float(input())\n",
        "area_circumference_generator(r)"
      ],
      "metadata": {
        "id": "kueTWsa4v7iz",
        "colab": {
          "base_uri": "https://localhost:8080/"
        },
        "outputId": "d0ab334c-0427-45a2-8734-f7ee67e07337"
      },
      "execution_count": null,
      "outputs": [
        {
          "output_type": "stream",
          "name": "stdout",
          "text": [
            "1\n",
            "(3.141592653589793, 6.283185307179586)\n",
            "Area of the circle is 3.141592653589793  and circumference is 6.283185307179586\n"
          ]
        }
      ]
    },
    {
      "cell_type": "code",
      "source": [
        "#10\n",
        "atuple=((1,3))\n",
        "adict={}\n",
        "for i in atuple:\n",
        "   adict[i]=i**2\n",
        "print(adict)"
      ],
      "metadata": {
        "colab": {
          "base_uri": "https://localhost:8080/"
        },
        "id": "cyh_1KDfqz-2",
        "outputId": "2a8b68eb-f9ba-4288-907b-59d8da67a6e3"
      },
      "execution_count": null,
      "outputs": [
        {
          "output_type": "stream",
          "name": "stdout",
          "text": [
            "{1: 1, 3: 9}\n"
          ]
        }
      ]
    },
    {
      "cell_type": "code",
      "source": [
        "def make_square(x,y):\n",
        "\n",
        "  adict={}\n",
        "  for i in range(x,y+1):\n",
        "    adict[i]=i**2\n",
        "  return adict\n",
        "print(make_square(1,3))"
      ],
      "metadata": {
        "colab": {
          "base_uri": "https://localhost:8080/"
        },
        "id": "1NehqAm5HD8s",
        "outputId": "ced89d8e-d5e0-424e-aeab-91b33b0d5ff3"
      },
      "execution_count": null,
      "outputs": [
        {
          "output_type": "stream",
          "name": "stdout",
          "text": [
            "{1: 1, 2: 4, 3: 9}\n"
          ]
        }
      ]
    },
    {
      "cell_type": "code",
      "source": [
        "#task10\n",
        "def make_square(x,y):\n",
        "\n",
        "  adict={}\n",
        "  a=[]\n",
        "  for i in (x,y):\n",
        "    a.append(int(i))\n",
        "   #adict[i]=i**2\n",
        "  for i in range(a[0],a[1]+1):\n",
        "    adict[i]=i**2\n",
        "  return adict\n",
        "print(make_square(1,3))\n"
      ],
      "metadata": {
        "colab": {
          "base_uri": "https://localhost:8080/"
        },
        "outputId": "22e4b83f-28ab-4796-c527-420cb3eba18d",
        "id": "RYbQwUvBy8P-"
      },
      "execution_count": null,
      "outputs": [
        {
          "output_type": "stream",
          "name": "stdout",
          "text": [
            "{1: 1, 2: 4, 3: 9}\n"
          ]
        }
      ]
    },
    {
      "cell_type": "code",
      "source": [
        "#task-10\n",
        "def make_square(atuple):\n",
        "\n",
        "  adict={}\n",
        "  a=[]\n",
        "  for i in atuple:\n",
        "    a.append(int(i))\n",
        "  for i in range(a[0],a[1]+1):                                                                                                                  #\n",
        "    adict[i]=i**2\n",
        "\n",
        "atuple=((1,3))\n",
        "print(make_square(atuple))\n"
      ],
      "metadata": {
        "colab": {
          "base_uri": "https://localhost:8080/"
        },
        "outputId": "f54f9956-3126-4c8e-ab25-e57ec46b6cd7",
        "id": "G8qqG0vj1VLx"
      },
      "execution_count": null,
      "outputs": [
        {
          "output_type": "stream",
          "name": "stdout",
          "text": [
            "None\n"
          ]
        }
      ]
    },
    {
      "cell_type": "code",
      "source": [
        "#task-11\n",
        "def rem_duplicate(atuple):\n",
        "\n",
        "  alist=list(atuple)\n",
        "  print(alist)\n",
        "  a=[]\n",
        "  for i in alist:\n",
        "    if i not in a:\n",
        "      a.append(i)\n",
        "    else:\n",
        "      pass\n",
        "    final=tuple(a)\n",
        "  return final\n",
        "#atuple=((1,1,1,2,3,4,5,6,6,6,6,4,0,0,0))\n",
        "print(rem_duplicate((1,1,1,2,3,4,5,6,6,6,6,4,0,0,0)))"
      ],
      "metadata": {
        "id": "KQ-QLmuNvf-C",
        "colab": {
          "base_uri": "https://localhost:8080/"
        },
        "outputId": "895529b5-683f-4b64-fcf1-e3c9241d719b"
      },
      "execution_count": null,
      "outputs": [
        {
          "output_type": "stream",
          "name": "stdout",
          "text": [
            "[1, 1, 1, 2, 3, 4, 5, 6, 6, 6, 6, 4, 0, 0, 0]\n",
            "(1, 2, 3, 4, 5, 6, 0)\n"
          ]
        }
      ]
    },
    {
      "cell_type": "code",
      "source": [
        "#task-12\n",
        "def function_name(n):\n",
        "  new_list=[]\n",
        "  for i in n:\n",
        "    if new_list.count(i)<2:\n",
        "      new_list.append(i)\n",
        "  return new_list\n",
        "print(function_name([1, 2, 3, 3, 3, 3, 4, 5, 8, 8]))"
      ],
      "metadata": {
        "colab": {
          "base_uri": "https://localhost:8080/"
        },
        "id": "BHd_mND1LYOl",
        "outputId": "c2afcae1-d84c-4110-c014-13cb767644b3"
      },
      "execution_count": null,
      "outputs": [
        {
          "output_type": "stream",
          "name": "stdout",
          "text": [
            "[1, 2, 3, 3, 4, 5, 8, 8]\n"
          ]
        }
      ]
    },
    {
      "cell_type": "code",
      "source": [
        "#tash-13\n",
        "def function_name(n,n1,n2):\n",
        "\n",
        "  if n==\"+\":\n",
        "    a=n1+n2\n",
        "  elif n==\"-\":\n",
        "     a=n1-n2\n",
        "  elif n==\"*\":\n",
        "     a=n1*n2\n",
        "  elif n==\"/\":\n",
        "      a=n1/n2\n",
        "  return a\n",
        "n=input()\n",
        "n1=float(input())\n",
        "n2=float(input())\n",
        "print(function_name(n,n1,n2))"
      ],
      "metadata": {
        "id": "pkdl07vN0U5Y",
        "colab": {
          "base_uri": "https://localhost:8080/"
        },
        "outputId": "80907ba7-4a5f-4c56-cd14-a3b6d714b7fc"
      },
      "execution_count": null,
      "outputs": [
        {
          "output_type": "stream",
          "name": "stdout",
          "text": [
            "*\n",
            "2\n",
            "3\n",
            "6.0\n"
          ]
        }
      ]
    },
    {
      "cell_type": "code",
      "source": [
        "#task-14\n",
        "def function_name(a,n):\n",
        "  new_string=\"\"\n",
        "  rmv_char=\"\"\n",
        "  for i in range(1,len(a)):\n",
        "    if i%n==0:\n",
        "      rmv_char+=a[i]\n",
        "    else:\n",
        "      new_string+=a[i]\n",
        "  new=new_string+rmv_char\n",
        "  return new\n",
        "\n",
        "sentence=input()\n",
        "position=int(input())\n",
        "print(function_name(sentence,position))"
      ],
      "metadata": {
        "id": "EK2CdQ9YvDa2",
        "colab": {
          "base_uri": "https://localhost:8080/"
        },
        "outputId": "34778ed6-0643-40ea-a911-fd2d08f963d5"
      },
      "execution_count": null,
      "outputs": [
        {
          "output_type": "stream",
          "name": "stdout",
          "text": [
            "I love programming\n",
            "3\n",
            " lveprgrmmngo oai\n"
          ]
        }
      ]
    },
    {
      "cell_type": "code",
      "source": [
        "#task-15\n",
        "def function_name(user,location=\"Dhanmondi\"):\n",
        "  item_price={'Rice': 105,'Potato': 20,'Chicken': 250,'Beef': 510,'Oil': 85}\n",
        "  total=0\n",
        "  a_list=user[2:len(user)-2].split('\",\"')\n",
        "  # for i in user:\n",
        "  #   a.append(i)\n",
        "  for i in a_list:\n",
        "    total=total+item_price[i]\n",
        "    if location==\"Dhanmondi\":\n",
        "      total+=30\n",
        "    else:\n",
        "      total+=70\n",
        "  return total\n",
        "\n",
        "\n",
        "user=input(\"enter you items list: \")\n",
        "\n",
        "print(function_name(user,location))"
      ],
      "metadata": {
        "id": "f9eDoKO8taUt",
        "colab": {
          "base_uri": "https://localhost:8080/",
          "height": 217
        },
        "outputId": "e81c43d9-9418-4bb5-cbb4-b1b7c31664cd"
      },
      "execution_count": null,
      "outputs": [
        {
          "name": "stdout",
          "output_type": "stream",
          "text": [
            "enter you items list: Rice\n"
          ]
        },
        {
          "output_type": "error",
          "ename": "NameError",
          "evalue": "ignored",
          "traceback": [
            "\u001b[0;31m---------------------------------------------------------------------------\u001b[0m",
            "\u001b[0;31mNameError\u001b[0m                                 Traceback (most recent call last)",
            "\u001b[0;32m<ipython-input-1-b5b9ae048674>\u001b[0m in \u001b[0;36m<module>\u001b[0;34m\u001b[0m\n\u001b[1;32m     17\u001b[0m \u001b[0muser\u001b[0m\u001b[0;34m=\u001b[0m\u001b[0minput\u001b[0m\u001b[0;34m(\u001b[0m\u001b[0;34m\"enter you items list: \"\u001b[0m\u001b[0;34m)\u001b[0m\u001b[0;34m\u001b[0m\u001b[0;34m\u001b[0m\u001b[0m\n\u001b[1;32m     18\u001b[0m \u001b[0;34m\u001b[0m\u001b[0m\n\u001b[0;32m---> 19\u001b[0;31m \u001b[0mprint\u001b[0m\u001b[0;34m(\u001b[0m\u001b[0mfunction_name\u001b[0m\u001b[0;34m(\u001b[0m\u001b[0muser\u001b[0m\u001b[0;34m,\u001b[0m\u001b[0mlocation\u001b[0m\u001b[0;34m)\u001b[0m\u001b[0;34m)\u001b[0m\u001b[0;34m\u001b[0m\u001b[0;34m\u001b[0m\u001b[0m\n\u001b[0m",
            "\u001b[0;31mNameError\u001b[0m: name 'location' is not defined"
          ]
        }
      ]
    },
    {
      "cell_type": "code",
      "source": [
        "def function_name(user,location=\"dhanmondi\"):\n",
        "\n",
        "  dict_price={'Rice': 105,'Potato': 20,'Chicken': 250,'Beef': 510,'Oil': 85}\n",
        "  a_list=[]\n",
        "  string=\"\"\n",
        "  store=\"\"\n",
        "  for i in user:\n",
        "    if i!=\"[\" and i!=\"]\" and i!='\"':\n",
        "        string+=i\n",
        "  string+=\",\"\n",
        "\n",
        "  for i in string:\n",
        "    if i!=\",\":\n",
        "       store+=i\n",
        "    else:\n",
        "      a_list.append(store)\n",
        "      store=\"\"\n",
        "\n",
        "  #a_list=user[2:len(user)-2].split(',')\n",
        "  print(a_list)\n",
        "  total=0\n",
        "  for i in dict_price.keys():\n",
        "    for j in a_list:\n",
        "      if i==j:\n",
        "        total=total+dict_price[i]\n",
        "  if location==\"dhanmondi\":\n",
        "     return total+30\n",
        "  else:\n",
        "     return total+70\n",
        "user=input()\n",
        "loc=input()\n",
        "print(function_name(user,loc))"
      ],
      "metadata": {
        "id": "rFZjJiEQtacy",
        "colab": {
          "base_uri": "https://localhost:8080/"
        },
        "outputId": "2d1a427b-c3b0-499b-98b5-e9b66e8aac0d"
      },
      "execution_count": null,
      "outputs": [
        {
          "output_type": "stream",
          "name": "stdout",
          "text": [
            "Rice Beef\n",
            "Mohhakha\n",
            "['Rice Beef']\n",
            "70\n"
          ]
        }
      ]
    },
    {
      "cell_type": "code",
      "execution_count": null,
      "metadata": {
        "colab": {
          "base_uri": "https://localhost:8080/"
        },
        "id": "MGGxGDIrSydu",
        "outputId": "101cf9e4-cde9-436d-fa8a-14c12b688467"
      },
      "outputs": [
        {
          "output_type": "stream",
          "name": "stdout",
          "text": [
            "1234\n",
            "500 taka: 2 notes\n",
            "100 taka: 2 notes\n",
            "20 taka: 1 notes\n",
            "10 taka: 1 notes\n",
            "2 taka: 2 notes\n"
          ]
        }
      ],
      "source": [
        "k=dict1[i]+j-(8.18-k%8.4)*4\n",
        "        dict1[i]=dict1[i]-int(k)"
      ]
    },
    {
      "cell_type": "code",
      "execution_count": null,
      "metadata": {
        "colab": {
          "base_uri": "https://localhost:8080/"
        },
        "outputId": "101cf9e4-cde9-436d-fa8a-14c12b688467",
        "id": "_p09VmmueaTT"
      },
      "outputs": [
        {
          "output_type": "stream",
          "name": "stdout",
          "text": [
            "1234\n",
            "500 taka: 2 notes\n",
            "100 taka: 2 notes\n",
            "20 taka: 1 notes\n",
            "10 taka: 1 notes\n",
            "2 taka: 2 notes\n"
          ]
        }
      ],
      "source": [
        "#task-16\n",
        "def splitting_money(n):\n",
        "  note_500=n//500\n",
        "  rem_500=n%500\n",
        "  note_100=rem_500//100\n",
        "  rem_100=a%100\n",
        "  note_50=rem_100//50\n",
        "  rem_50=rem_100%50\n",
        "  note_20=rem_50//20\n",
        "  rem_20=rem_20%20\n",
        "  note_10=rem_20//10\n",
        "  rem_10=rem_20%10\n",
        "  note_5=rem_10//5\n",
        "  rem_5=rem_10%5\n",
        "  note_2=rem_5//2\n",
        "  rem_2=rem_5%2\n",
        "  note_1=rem_2//1\n",
        "\n",
        "  dict_a={500:note_500,100:note_100,50:note_50,20:note_20,10:ten,5:fivetk,2:tk_2,1:tk_1}\n",
        "  #note=\"\"\n",
        "  for i,j in dict_a.items():\n",
        "    if j>0:\n",
        "      print(i,\"taka:\",j,\"notes\")\n",
        "n=int(input())\n",
        "splitting_money(n)"
      ]
    },
    {
      "cell_type": "code",
      "source": [
        "#task-17\n",
        "def remove_odd(n):\n",
        "  a=[]\n",
        "  for i in n:\n",
        "    if i%2==0:\n",
        "      a.append(i)\n",
        "  return a\n",
        "\n",
        "print(remove_odd([21, 33, 44, 66, 11, 1, 88, 45, 10, 9]))"
      ],
      "metadata": {
        "id": "pJA1yKd3bcmt"
      },
      "execution_count": null,
      "outputs": []
    },
    {
      "cell_type": "code",
      "source": [
        "#task-18\n",
        "def calculate_sum(start,end,div1,div2):\n",
        "  sum=0\n",
        "  for i in range(start,end):\n",
        "    if i%div1==0 and i%div2==0:\n",
        "      pass\n",
        "    elif i%div1==0 or i%div2==0:\n",
        "      sum+=i\n",
        "  return sum\n",
        "\n",
        "start=int(input())\n",
        "end=int(input())\n",
        "div1=int(input())\n",
        "div2=int(input())\n",
        "print(calculate_sum(start,end,div1,div2))"
      ],
      "metadata": {
        "id": "U2RNIL31bcoy"
      },
      "execution_count": null,
      "outputs": []
    },
    {
      "cell_type": "code",
      "source": [
        "#task-19\n",
        "def function_name(n):\n",
        "  n=n.lower()\n",
        "  string=\"abcdefghij\"\n",
        "  new=\"\"\n",
        "\n",
        "  for i in n:\n",
        "    if i in string:\n",
        "      if i not in new:\n",
        "        new+=i\n",
        "  if len(new)==len(string):                             #\n",
        "    for i in range(0,5):\n",
        "      print(\"PSG will win the Champions League this season\")\n",
        "  else:\n",
        "    for i in range(0,6):\n",
        "      print(\"PSG will win the Champions League this season\")\n",
        "\n",
        "\n",
        "function_name(\"A black jackal is hunting a full grown deer\")"
      ],
      "metadata": {
        "id": "BOc6JV2Tbcqt"
      },
      "execution_count": null,
      "outputs": []
    },
    {
      "cell_type": "code",
      "source": [
        "#task-20\n"
      ],
      "metadata": {
        "id": "Q1IQkkiRbcs3"
      },
      "execution_count": null,
      "outputs": []
    },
    {
      "cell_type": "code",
      "execution_count": null,
      "metadata": {
        "colab": {
          "base_uri": "https://localhost:8080/"
        },
        "id": "mPM_mRWg-EYU",
        "outputId": "bd7edb32-25ed-486f-88e4-bbde1d5cde74"
      },
      "outputs": [
        {
          "name": "stdout",
          "output_type": "stream",
          "text": [
            "6\n"
          ]
        }
      ],
      "source": [
        "def max_of_two( x, y ):\n",
        "    if x > y:\n",
        "        return x\n",
        "    return ,\n",
        "def max_of_three( x, y, z ):\n",
        "    return max_of_two( x, max_of_two( y, z ) )\n",
        "print(max_of_three(3, 6, -5))\n"
      ]
    },
    {
      "cell_type": "code",
      "execution_count": null,
      "metadata": {
        "id": "G6g9XjMD-En-"
      },
      "outputs": [],
      "source": []
    },
    {
      "cell_type": "code",
      "execution_count": null,
      "metadata": {
        "id": "0c-tl585yJ9W"
      },
      "outputs": [],
      "source": []
    }
  ],
  "metadata": {
    "colab": {
      "provenance": [],
      "authorship_tag": "ABX9TyOJlCjwQOKtWT5g94ypmg1j",
      "include_colab_link": true
    },
    "kernelspec": {
      "display_name": "Python 3",
      "name": "python3"
    },
    "language_info": {
      "name": "python"
    }
  },
  "nbformat": 4,
  "nbformat_minor": 0
}