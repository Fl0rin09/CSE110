{
  "cells": [
    {
      "cell_type": "code",
      "execution_count": null,
      "metadata": {
        "colab": {
          "base_uri": "https://localhost:8080/"
        },
        "id": "2LzIgBDLmw95",
        "outputId": "55a63be6-b1f7-47c2-f761-02018f845c53"
      },
      "outputs": [
        {
          "name": "stdout",
          "output_type": "stream",
          "text": [
            "24,18,12,6,0,-6"
          ]
        }
      ],
      "source": [
        "#assignment-3\n",
        "#Task-1.a\n",
        "count=24\n",
        "while(count>=-6):\n",
        "  if(count==-6):\n",
        "    print(count,end=\"\")\n",
        "  else:\n",
        "    print(count,end=\",\")\n",
        "  count=count-6"
      ]
    },
    {
      "cell_type": "code",
      "execution_count": null,
      "metadata": {
        "colab": {
          "base_uri": "https://localhost:8080/"
        },
        "id": "O03ct-kipcNK",
        "outputId": "c7449c52-658e-4781-dd07-071fc27aa9b6"
      },
      "outputs": [
        {
          "name": "stdout",
          "output_type": "stream",
          "text": [
            "24,18,12,6,0,-6"
          ]
        }
      ],
      "source": [
        "\n",
        "#task-1\n",
        "count=0\n",
        "for a in range(24,-7,-6):\n",
        "  if(a==-6):\n",
        "    print(a,end=\"\")\n",
        "  else:\n",
        "    print(a,end=\",\")\n",
        ""
      ]
    },
    {
      "cell_type": "code",
      "execution_count": null,
      "metadata": {
        "colab": {
          "base_uri": "https://localhost:8080/"
        },
        "id": "FyBstFP9w-FV",
        "outputId": "c84a35f6-59de-44b3-d7e5-fcc961699118"
      },
      "outputs": [
        {
          "name": "stdout",
          "output_type": "stream",
          "text": [
            "-6,0,6,12,18,24"
          ]
        }
      ],
      "source": [
        "count=0\n",
        "for a in range(-6,25,6):\n",
        "  if(a==24):\n",
        "    print(a,end=\"\")\n",
        "  else:\n",
        "    print(a,end=\",\")\n",
        ""
      ]
    },
    {
      "cell_type": "code",
      "execution_count": null,
      "metadata": {
        "colab": {
          "base_uri": "https://localhost:8080/"
        },
        "id": "QUaeRZW1tEU5",
        "outputId": "fde954e4-db31-430c-8395-633fde019f93"
      },
      "outputs": [
        {
          "name": "stdout",
          "output_type": "stream",
          "text": [
            "-6,0,6,12,18,24"
          ]
        }
      ],
      "source": [
        "count=-6\n",
        "while(count<=24):\n",
        "  if(count==24):\n",
        "    print(count,end=\"\")\n",
        "  else:\n",
        "    print(count,end=\",\")\n",
        "  count=count+6"
      ]
    },
    {
      "cell_type": "code",
      "execution_count": null,
      "metadata": {
        "colab": {
          "base_uri": "https://localhost:8080/"
        },
        "id": "fy2tlzgxw9G-",
        "outputId": "d41670c6-1d5e-4a63-986a-45356eb698bc"
      },
      "outputs": [
        {
          "name": "stdout",
          "output_type": "stream",
          "text": [
            "-10,-5,0,5,10,15,20"
          ]
        }
      ],
      "source": [
        "#Task-1.b\n",
        "count=0\n",
        "for a in range(-10,21,5):\n",
        "  if(a==20):\n",
        "    print(a,end=\"\")\n",
        "  else:\n",
        "    print(a,end=\",\")\n"
      ]
    },
    {
      "cell_type": "code",
      "execution_count": null,
      "metadata": {
        "colab": {
          "base_uri": "https://localhost:8080/"
        },
        "id": "6H7Q_u3q1tKI",
        "outputId": "2930e1fc-cd8e-4acc-cc0e-e61fec993012"
      },
      "outputs": [
        {
          "name": "stdout",
          "output_type": "stream",
          "text": [
            "18,27,36,45,54,63"
          ]
        }
      ],
      "source": [
        "#task-1.c\n",
        "count=0\n",
        "for a in range(18,64,9):\n",
        "  if(a==63):\n",
        "    print(a,end=\"\")\n",
        "  else:\n",
        "    print(a,end=\",\")"
      ]
    },
    {
      "cell_type": "code",
      "execution_count": null,
      "metadata": {
        "colab": {
          "base_uri": "https://localhost:8080/"
        },
        "id": "c1iVSKNv3Qmw",
        "outputId": "75420e95-64e6-4970-d3a7-3135504b1bdb"
      },
      "outputs": [
        {
          "name": "stdout",
          "output_type": "stream",
          "text": [
            "18,-27,36,-45,54,63"
          ]
        }
      ],
      "source": [
        "#d\n",
        "count=0\n",
        "for a in range(18,64,9):\n",
        "  if(a==63):\n",
        "    print(a,end=\"\")\n",
        "  elif(a%2!=0):\n",
        "    print(a*(-1),end=\",\")\n",
        "  else:\n",
        "    print(a,end=\",\")"
      ]
    },
    {
      "cell_type": "code",
      "execution_count": null,
      "metadata": {
        "colab": {
          "base_uri": "https://localhost:8080/"
        },
        "id": "CGijIK0ODtj6",
        "outputId": "ee02d574-c277-45c3-9221-2ec2280c4604"
      },
      "outputs": [
        {
          "output_type": "stream",
          "name": "stdout",
          "text": [
            "18,-27,36,-45,54,-63"
          ]
        }
      ],
      "source": [
        "count=0\n",
        "for a in range(18,64,9):\n",
        "  if(a==63):\n",
        "    print(a*(-1),end=\"\")\n",
        "  elif(a%2!=0):\n",
        "    print(a*(-1),end=\",\")\n",
        "  else:\n",
        "    print(a,end=\",\")"
      ]
    },
    {
      "cell_type": "code",
      "execution_count": null,
      "metadata": {
        "colab": {
          "base_uri": "https://localhost:8080/"
        },
        "id": "Ru3BzABv3QpU",
        "outputId": "bc950ecf-6982-4fb2-f094-bb448438fecf"
      },
      "outputs": [
        {
          "output_type": "stream",
          "name": "stdout",
          "text": [
            "enter your fevourite car name:3\n",
            "enter the num you want to repeat:2\n",
            "3\n",
            "3\n"
          ]
        }
      ],
      "source": [
        "#Task-2\n",
        "\n",
        "a=input(\"enter your fevourite car name:\")\n",
        "b=int(input(\"enter the num you want to repeat:\"))\n",
        "for i in range(0,b,1):\n",
        "  print(a)"
      ]
    },
    {
      "cell_type": "code",
      "execution_count": null,
      "metadata": {
        "id": "nP06YPhUr-h6"
      },
      "outputs": [],
      "source": []
    },
    {
      "cell_type": "code",
      "execution_count": null,
      "metadata": {
        "colab": {
          "base_uri": "https://localhost:8080/"
        },
        "id": "3G7H6wxV3Qs6",
        "outputId": "5021de33-c69b-4e57-a86b-01ecad527874"
      },
      "outputs": [
        {
          "name": "stdout",
          "output_type": "stream",
          "text": [
            "enter your fevourite car name:a\n",
            "enter the num you want to repeat:5\n",
            "a\n",
            "a\n",
            "a\n",
            "a\n",
            "a\n"
          ]
        }
      ],
      "source": [
        "count=1\n",
        "a=input(\"enter your fevourite car's name:\")\n",
        "b=int(input(\"enter a num:\"))\n",
        "while(count<=b):\n",
        "  print(a)\n",
        "  count=count+1"
      ]
    },
    {
      "cell_type": "code",
      "execution_count": null,
      "metadata": {
        "colab": {
          "base_uri": "https://localhost:8080/"
        },
        "id": "2nyileIP3QwH",
        "outputId": "b95b9854-c461-446a-de4e-127a970debbd"
      },
      "outputs": [
        {
          "output_type": "stream",
          "name": "stdout",
          "text": [
            "2835\n"
          ]
        }
      ],
      "source": [
        "#task-3\n",
        "#count=0\n",
        "sum=0\n",
        "for a in range(0,601,1):\n",
        "  if(a%7==0 and a%9==0):\n",
        "    sum=sum+a\n",
        " # count=count+1\n",
        "\n",
        "print(sum)\n",
        "\n",
        ""
      ]
    },
    {
      "cell_type": "code",
      "execution_count": null,
      "metadata": {
        "colab": {
          "base_uri": "https://localhost:8080/"
        },
        "id": "d4TTS83V3Q3u",
        "outputId": "9e026252-ed04-4506-f479-9b28ecd5b74e"
      },
      "outputs": [
        {
          "output_type": "stream",
          "name": "stdout",
          "text": [
            "39814\n"
          ]
        }
      ],
      "source": [
        "#task-4\n",
        "\n",
        "sum=0\n",
        "for a in range(0,601,1):\n",
        "   if(a%7==0 and a%9==0):\n",
        "      pass\n",
        "   elif(a%7==0 or a%9==0):\n",
        "      sum=sum+a\n",
        "print(sum)"
      ]
    },
    {
      "cell_type": "code",
      "execution_count": null,
      "metadata": {
        "colab": {
          "base_uri": "https://localhost:8080/"
        },
        "id": "taV1F10XO5po",
        "outputId": "cc836751-7f36-4a1b-efbc-ea2abbad3f87"
      },
      "outputs": [
        {
          "name": "stdout",
          "output_type": "stream",
          "text": [
            "39814\n"
          ]
        }
      ],
      "source": [
        "sum=0\n",
        "count=0\n",
        "while(count<=600):\n",
        "  if(count%7==0 and count%9==0):\n",
        "    pass\n",
        "  elif(count%7==0 or count%9==0):\n",
        "    sum=sum+count\n",
        "  count=count+1\n",
        "print(sum)"
      ]
    },
    {
      "cell_type": "code",
      "execution_count": null,
      "metadata": {
        "colab": {
          "base_uri": "https://localhost:8080/"
        },
        "id": "w9baDhLV3Q6c",
        "outputId": "43086af9-8a63-4662-d3f7-5d96c99e49de"
      },
      "outputs": [
        {
          "name": "stdout",
          "output_type": "stream",
          "text": [
            "11 13 15 17 19 21 23 25 27 29 31 33 35 37 39 41 43 45 47 49 "
          ]
        }
      ],
      "source": [
        "#task-5\n",
        "\n",
        "for a in range(10,51,1):\n",
        "  if(a%2!=0):\n",
        "    print(a,end=\" \")\n",
        "\n",
        "\n"
      ]
    },
    {
      "cell_type": "code",
      "execution_count": null,
      "metadata": {
        "colab": {
          "base_uri": "https://localhost:8080/"
        },
        "id": "jKoxvCDyTGUw",
        "outputId": "f7ee192d-4790-442c-b566-0e3c19dc2599"
      },
      "outputs": [
        {
          "name": "stdout",
          "output_type": "stream",
          "text": [
            "11 13 15 17 19 21 23 25 27 29 31 33 35 37 39 41 43 45 47 49 "
          ]
        }
      ],
      "source": [
        "count=10\n",
        "while(count<=50):\n",
        "  if(count%2!=0):\n",
        "    print(count,end=\" \")\n",
        "  count=count+1"
      ]
    },
    {
      "cell_type": "code",
      "execution_count": null,
      "metadata": {
        "colab": {
          "base_uri": "https://localhost:8080/"
        },
        "id": "yyu52ozW7VLy",
        "outputId": "02f2fa42-193c-4989-a98b-b475fb7c1415"
      },
      "outputs": [
        {
          "name": "stdout",
          "output_type": "stream",
          "text": [
            "5\n",
            "15\n"
          ]
        }
      ],
      "source": [
        "#task-6\n",
        "sum=0\n",
        "n=int(input())\n",
        "for a in range(0,n+1,1):\n",
        "  if(a%2==0):\n",
        "    sum=sum-(a**2)\n",
        "  else:\n",
        "    sum=sum+(a**2)\n",
        "\n",
        "print(sum)\n"
      ]
    },
    {
      "cell_type": "code",
      "execution_count": null,
      "metadata": {
        "colab": {
          "base_uri": "https://localhost:8080/"
        },
        "id": "U4852q_YQUm_",
        "outputId": "489971ac-af0f-400d-be3b-e24f530584b5"
      },
      "outputs": [
        {
          "name": "stdout",
          "output_type": "stream",
          "text": [
            "5\n",
            "150\n"
          ]
        }
      ],
      "source": [
        "sum=0\n",
        "count=0\n",
        "n=int(input())\n",
        "while(count<=n):\n",
        "  if(n%2==0):\n",
        "    sum=sum-(n**2)\n",
        "  else:\n",
        "    sum=sum+(n**2)\n",
        "  count=count+1\n",
        "print(sum)"
      ]
    },
    {
      "cell_type": "code",
      "execution_count": null,
      "metadata": {
        "id": "bNGUxMrw3Q84"
      },
      "outputs": [],
      "source": [
        "#task-7\n",
        "sum=0\n",
        "x=0\n",
        "for a in range(0,10,1):\n",
        "  n=int(input())\n",
        "  if(n%2!=0):\n",
        "    x=x+1\n",
        "    sum=sum+n\n",
        "    avarage=sum/x\n",
        "\n",
        "print(avarage,sum)\n"
      ]
    },
    {
      "cell_type": "code",
      "source": [],
      "metadata": {
        "id": "0dK2GJ1KxPuP"
      },
      "execution_count": null,
      "outputs": []
    },
    {
      "cell_type": "code",
      "execution_count": null,
      "metadata": {
        "id": "2if4cAo3xRHA",
        "colab": {
          "base_uri": "https://localhost:8080/"
        },
        "outputId": "987af038-9e0f-4b9e-e7cb-48795196a397"
      },
      "outputs": [
        {
          "output_type": "stream",
          "name": "stdout",
          "text": [
            "1\n",
            "2\n",
            "3\n",
            "4\n",
            "5\n",
            "6\n",
            "7\n",
            "8\n",
            "9\n",
            "10\n",
            "The total of the odd numbers is 25 and their average is  5.0\n"
          ]
        }
      ],
      "source": [
        "#task-7\n",
        "sum=0\n",
        "x=0\n",
        "for a in range(0,10,1):\n",
        "  n=int(input())\n",
        "  if(n%2!=0):\n",
        "    x=x+1\n",
        "    sum=sum+n\n",
        "    avarage=sum/x\n",
        "\n",
        "print(\"The total of the odd numbers is\",sum, \"and their average is \",avarage)\n"
      ]
    },
    {
      "cell_type": "code",
      "execution_count": null,
      "metadata": {
        "colab": {
          "base_uri": "https://localhost:8080/"
        },
        "id": "znkzgeNlVBoF",
        "outputId": "eaed7b00-a921-46a1-bc73-61e18e99b6a2"
      },
      "outputs": [
        {
          "output_type": "stream",
          "name": "stdout",
          "text": [
            "1\n",
            "2\n",
            "3\n",
            "4\n",
            "5\n",
            "6\n",
            "7\n",
            "8\n",
            "9\n",
            "10\n",
            "25 5.0\n"
          ]
        }
      ],
      "source": [
        "7count=0\n",
        "sum=0\n",
        "x=0\n",
        "while(count<10):\n",
        "  n=int(input())\n",
        "  if(n%2!=0):\n",
        "    x=x+1\n",
        "    sum=sum+n\n",
        "\n",
        "  count=count+1\n",
        "  av=sum/x\n",
        "print(sum,av)\n"
      ]
    },
    {
      "cell_type": "code",
      "execution_count": null,
      "metadata": {
        "colab": {
          "base_uri": "https://localhost:8080/"
        },
        "id": "NA_W6MMu3Q_c",
        "outputId": "d4b5c184-2ccd-4ec5-e53c-cd9d82f52fc3"
      },
      "outputs": [
        {
          "output_type": "stream",
          "name": "stdout",
          "text": [
            "50\n",
            "196\n"
          ]
        }
      ],
      "source": [
        "#task-8\n",
        "sum=0\n",
        "n=int(input())\n",
        "\n",
        "\n",
        "for a in range(0,n,1):\n",
        "  if(a%7==0):\n",
        "    sum=sum+a\n",
        "  #else:\n",
        "    #continue\n",
        "print(sum)"
      ]
    },
    {
      "cell_type": "code",
      "execution_count": null,
      "metadata": {
        "colab": {
          "base_uri": "https://localhost:8080/"
        },
        "id": "wMhnO2Ei3RDk",
        "outputId": "e9992e9e-d857-48df-bd36-19cc8f402985"
      },
      "outputs": [
        {
          "output_type": "stream",
          "name": "stdout",
          "text": [
            "1\n",
            "1\n",
            "2\n",
            "3\n",
            "3\n",
            "6\n",
            "4\n",
            "10\n",
            "5\n",
            "15\n"
          ]
        }
      ],
      "source": [
        "#task-9\n",
        "sum=0\n",
        "for a in range(1,6,1):\n",
        "   n=int(input())\n",
        "   sum=sum+n\n",
        "\n",
        "   print(sum)\n"
      ]
    },
    {
      "cell_type": "code",
      "execution_count": null,
      "metadata": {
        "colab": {
          "base_uri": "https://localhost:8080/"
        },
        "id": "9jyj07RnP4TC",
        "outputId": "7f1b4dbc-62b5-4882-de8a-269f7bde0bc7"
      },
      "outputs": [
        {
          "output_type": "stream",
          "name": "stdout",
          "text": [
            "++++\n",
            "++++\n",
            "++++\n"
          ]
        }
      ],
      "source": [
        "##++\n",
        "for row in range(3):\n",
        "   for column in range(4):\n",
        "     print(\"+\",end= \"\")\n",
        "   print()"
      ]
    },
    {
      "cell_type": "code",
      "execution_count": null,
      "metadata": {
        "colab": {
          "base_uri": "https://localhost:8080/",
          "height": 380
        },
        "id": "jU9WLin5eS2s",
        "outputId": "4168ffb6-d756-4bfe-849a-4ae212a2e95c"
      },
      "outputs": [
        {
          "output_type": "error",
          "ename": "KeyboardInterrupt",
          "evalue": "ignored",
          "traceback": [
            "\u001b[0;31m---------------------------------------------------------------------------\u001b[0m",
            "\u001b[0;31mKeyboardInterrupt\u001b[0m                         Traceback (most recent call last)",
            "\u001b[0;32m<ipython-input-5-cc53b3d73a4e>\u001b[0m in \u001b[0;36m<module>\u001b[0;34m\u001b[0m\n\u001b[1;32m      1\u001b[0m \u001b[0;31m#task-10\u001b[0m\u001b[0;34m\u001b[0m\u001b[0;34m\u001b[0m\u001b[0;34m\u001b[0m\u001b[0m\n\u001b[1;32m      2\u001b[0m \u001b[0;31m#user//10**(disit-1)\u001b[0m\u001b[0;34m\u001b[0m\u001b[0;34m\u001b[0m\u001b[0;34m\u001b[0m\u001b[0m\n\u001b[0;32m----> 3\u001b[0;31m \u001b[0mn\u001b[0m\u001b[0;34m=\u001b[0m\u001b[0mint\u001b[0m\u001b[0;34m(\u001b[0m\u001b[0minput\u001b[0m\u001b[0;34m(\u001b[0m\u001b[0;34m)\u001b[0m\u001b[0;34m)\u001b[0m\u001b[0;34m\u001b[0m\u001b[0;34m\u001b[0m\u001b[0m\n\u001b[0m\u001b[1;32m      4\u001b[0m \u001b[0;32mwhile\u001b[0m \u001b[0;34m(\u001b[0m\u001b[0mn\u001b[0m\u001b[0;34m)\u001b[0m\u001b[0;34m:\u001b[0m\u001b[0;34m\u001b[0m\u001b[0;34m\u001b[0m\u001b[0m\n\u001b[1;32m      5\u001b[0m   \u001b[0;32mif\u001b[0m\u001b[0;34m(\u001b[0m\u001b[0mn\u001b[0m\u001b[0;34m>\u001b[0m\u001b[0;36m0\u001b[0m\u001b[0;34m)\u001b[0m\u001b[0;34m:\u001b[0m\u001b[0;34m\u001b[0m\u001b[0;34m\u001b[0m\u001b[0m\n",
            "\u001b[0;32m/usr/local/lib/python3.7/dist-packages/ipykernel/kernelbase.py\u001b[0m in \u001b[0;36mraw_input\u001b[0;34m(self, prompt)\u001b[0m\n\u001b[1;32m    861\u001b[0m             \u001b[0mself\u001b[0m\u001b[0;34m.\u001b[0m\u001b[0m_parent_ident\u001b[0m\u001b[0;34m,\u001b[0m\u001b[0;34m\u001b[0m\u001b[0;34m\u001b[0m\u001b[0m\n\u001b[1;32m    862\u001b[0m             \u001b[0mself\u001b[0m\u001b[0;34m.\u001b[0m\u001b[0m_parent_header\u001b[0m\u001b[0;34m,\u001b[0m\u001b[0;34m\u001b[0m\u001b[0;34m\u001b[0m\u001b[0m\n\u001b[0;32m--> 863\u001b[0;31m             \u001b[0mpassword\u001b[0m\u001b[0;34m=\u001b[0m\u001b[0;32mFalse\u001b[0m\u001b[0;34m,\u001b[0m\u001b[0;34m\u001b[0m\u001b[0;34m\u001b[0m\u001b[0m\n\u001b[0m\u001b[1;32m    864\u001b[0m         )\n\u001b[1;32m    865\u001b[0m \u001b[0;34m\u001b[0m\u001b[0m\n",
            "\u001b[0;32m/usr/local/lib/python3.7/dist-packages/ipykernel/kernelbase.py\u001b[0m in \u001b[0;36m_input_request\u001b[0;34m(self, prompt, ident, parent, password)\u001b[0m\n\u001b[1;32m    902\u001b[0m             \u001b[0;32mexcept\u001b[0m \u001b[0mKeyboardInterrupt\u001b[0m\u001b[0;34m:\u001b[0m\u001b[0;34m\u001b[0m\u001b[0;34m\u001b[0m\u001b[0m\n\u001b[1;32m    903\u001b[0m                 \u001b[0;31m# re-raise KeyboardInterrupt, to truncate traceback\u001b[0m\u001b[0;34m\u001b[0m\u001b[0;34m\u001b[0m\u001b[0;34m\u001b[0m\u001b[0m\n\u001b[0;32m--> 904\u001b[0;31m                 \u001b[0;32mraise\u001b[0m \u001b[0mKeyboardInterrupt\u001b[0m\u001b[0;34m(\u001b[0m\u001b[0;34m\"Interrupted by user\"\u001b[0m\u001b[0;34m)\u001b[0m \u001b[0;32mfrom\u001b[0m \u001b[0;32mNone\u001b[0m\u001b[0;34m\u001b[0m\u001b[0;34m\u001b[0m\u001b[0m\n\u001b[0m\u001b[1;32m    905\u001b[0m             \u001b[0;32mexcept\u001b[0m \u001b[0mException\u001b[0m \u001b[0;32mas\u001b[0m \u001b[0me\u001b[0m\u001b[0;34m:\u001b[0m\u001b[0;34m\u001b[0m\u001b[0;34m\u001b[0m\u001b[0m\n\u001b[1;32m    906\u001b[0m                 \u001b[0mself\u001b[0m\u001b[0;34m.\u001b[0m\u001b[0mlog\u001b[0m\u001b[0;34m.\u001b[0m\u001b[0mwarning\u001b[0m\u001b[0;34m(\u001b[0m\u001b[0;34m\"Invalid Message:\"\u001b[0m\u001b[0;34m,\u001b[0m \u001b[0mexc_info\u001b[0m\u001b[0;34m=\u001b[0m\u001b[0;32mTrue\u001b[0m\u001b[0;34m)\u001b[0m\u001b[0;34m\u001b[0m\u001b[0;34m\u001b[0m\u001b[0m\n",
            "\u001b[0;31mKeyboardInterrupt\u001b[0m: Interrupted by user"
          ]
        }
      ],
      "source": [
        "#task-10\n",
        "#user//10**(disit-1)\n",
        "n=int(input())\n",
        "while (n):\n",
        "  if(n>0):\n",
        "    print(n%10,end=\",\")\n",
        "  else:\n",
        "    print(n%10,end=\"\")\n",
        "  n=n//10\n",
        "print(\"\")"
      ]
    },
    {
      "cell_type": "code",
      "execution_count": null,
      "metadata": {
        "id": "Z1hZLDRTeS5E",
        "colab": {
          "base_uri": "https://localhost:8080/"
        },
        "outputId": "75e77af1-a4e8-4c59-c1ee-cb4af5116e2f"
      },
      "outputs": [
        {
          "output_type": "stream",
          "name": "stdout",
          "text": [
            "334\n",
            "3\n"
          ]
        }
      ],
      "source": [
        "#task-11\n",
        "\n",
        "count=0\n",
        "n=int(input())\n",
        "while n>0:\n",
        "    n=n//10\n",
        "\n",
        "    count=count+1\n",
        "print(count)"
      ]
    },
    {
      "cell_type": "code",
      "source": [
        "13//10"
      ],
      "metadata": {
        "colab": {
          "base_uri": "https://localhost:8080/"
        },
        "id": "NoUav54wTBJu",
        "outputId": "78584c2d-f667-47cd-e5a1-ca0a4db1d3bf"
      },
      "execution_count": null,
      "outputs": [
        {
          "output_type": "execute_result",
          "data": {
            "text/plain": [
              "1"
            ]
          },
          "metadata": {},
          "execution_count": 36
        }
      ]
    },
    {
      "cell_type": "code",
      "execution_count": null,
      "metadata": {
        "id": "k33s0dnZeS8f",
        "colab": {
          "base_uri": "https://localhost:8080/"
        },
        "outputId": "12f6b672-5a2c-473a-802c-247f91c95795"
      },
      "outputs": [
        {
          "output_type": "stream",
          "name": "stdout",
          "text": [
            "6\n",
            "1\n",
            "2\n",
            "3\n",
            "6\n",
            "4 divisor\n"
          ]
        }
      ],
      "source": [
        "#task13\n",
        "\n",
        "n=int(input())\n",
        "count=0\n",
        "x=1\n",
        "while(x<=n):\n",
        "   if(n%x==0):\n",
        "     count=count+1\n",
        "     print(x)\n",
        "   x+=1\n",
        "print(count,\"divisor\")\n",
        "\n",
        "\n"
      ]
    },
    {
      "cell_type": "code",
      "source": [],
      "metadata": {
        "id": "66KNzIwki82E"
      },
      "execution_count": null,
      "outputs": []
    },
    {
      "cell_type": "code",
      "source": [
        "#prb---------------------------------\n",
        "n=int(input())\n",
        "count=0\n",
        "for a in range(1,n+1):\n",
        "  if(n%a==0):\n",
        "    if(n==a):\n",
        "      print(a)\n",
        "    else:\n",
        "     print(a)\n",
        "  count=count+1\n",
        "print(\"total\",count,\"divisor\")"
      ],
      "metadata": {
        "colab": {
          "base_uri": "https://localhost:8080/",
          "height": 380
        },
        "id": "IERpdrj03bVn",
        "outputId": "4670ca52-62a4-46e5-bc3a-66fd69da9333"
      },
      "execution_count": null,
      "outputs": [
        {
          "output_type": "error",
          "ename": "KeyboardInterrupt",
          "evalue": "ignored",
          "traceback": [
            "\u001b[0;31m---------------------------------------------------------------------------\u001b[0m",
            "\u001b[0;31mKeyboardInterrupt\u001b[0m                         Traceback (most recent call last)",
            "\u001b[0;32m<ipython-input-60-16bda98ca867>\u001b[0m in \u001b[0;36m<module>\u001b[0;34m\u001b[0m\n\u001b[1;32m      1\u001b[0m \u001b[0;31m#\u001b[0m\u001b[0;34m\u001b[0m\u001b[0;34m\u001b[0m\u001b[0;34m\u001b[0m\u001b[0m\n\u001b[0;32m----> 2\u001b[0;31m \u001b[0mn\u001b[0m\u001b[0;34m=\u001b[0m\u001b[0mint\u001b[0m\u001b[0;34m(\u001b[0m\u001b[0minput\u001b[0m\u001b[0;34m(\u001b[0m\u001b[0;34m)\u001b[0m\u001b[0;34m)\u001b[0m\u001b[0;34m\u001b[0m\u001b[0;34m\u001b[0m\u001b[0m\n\u001b[0m\u001b[1;32m      3\u001b[0m \u001b[0mcount\u001b[0m\u001b[0;34m=\u001b[0m\u001b[0;36m0\u001b[0m\u001b[0;34m\u001b[0m\u001b[0;34m\u001b[0m\u001b[0m\n\u001b[1;32m      4\u001b[0m \u001b[0;32mfor\u001b[0m \u001b[0ma\u001b[0m \u001b[0;32min\u001b[0m \u001b[0mrange\u001b[0m\u001b[0;34m(\u001b[0m\u001b[0;36m1\u001b[0m\u001b[0;34m,\u001b[0m\u001b[0mn\u001b[0m\u001b[0;34m+\u001b[0m\u001b[0;36m1\u001b[0m\u001b[0;34m)\u001b[0m\u001b[0;34m:\u001b[0m\u001b[0;34m\u001b[0m\u001b[0;34m\u001b[0m\u001b[0m\n\u001b[1;32m      5\u001b[0m   \u001b[0;32mif\u001b[0m\u001b[0;34m(\u001b[0m\u001b[0mn\u001b[0m\u001b[0;34m%\u001b[0m\u001b[0ma\u001b[0m\u001b[0;34m==\u001b[0m\u001b[0;36m0\u001b[0m\u001b[0;34m)\u001b[0m\u001b[0;34m:\u001b[0m\u001b[0;34m\u001b[0m\u001b[0;34m\u001b[0m\u001b[0m\n",
            "\u001b[0;32m/usr/local/lib/python3.7/dist-packages/ipykernel/kernelbase.py\u001b[0m in \u001b[0;36mraw_input\u001b[0;34m(self, prompt)\u001b[0m\n\u001b[1;32m    861\u001b[0m             \u001b[0mself\u001b[0m\u001b[0;34m.\u001b[0m\u001b[0m_parent_ident\u001b[0m\u001b[0;34m,\u001b[0m\u001b[0;34m\u001b[0m\u001b[0;34m\u001b[0m\u001b[0m\n\u001b[1;32m    862\u001b[0m             \u001b[0mself\u001b[0m\u001b[0;34m.\u001b[0m\u001b[0m_parent_header\u001b[0m\u001b[0;34m,\u001b[0m\u001b[0;34m\u001b[0m\u001b[0;34m\u001b[0m\u001b[0m\n\u001b[0;32m--> 863\u001b[0;31m             \u001b[0mpassword\u001b[0m\u001b[0;34m=\u001b[0m\u001b[0;32mFalse\u001b[0m\u001b[0;34m,\u001b[0m\u001b[0;34m\u001b[0m\u001b[0;34m\u001b[0m\u001b[0m\n\u001b[0m\u001b[1;32m    864\u001b[0m         )\n\u001b[1;32m    865\u001b[0m \u001b[0;34m\u001b[0m\u001b[0m\n",
            "\u001b[0;32m/usr/local/lib/python3.7/dist-packages/ipykernel/kernelbase.py\u001b[0m in \u001b[0;36m_input_request\u001b[0;34m(self, prompt, ident, parent, password)\u001b[0m\n\u001b[1;32m    902\u001b[0m             \u001b[0;32mexcept\u001b[0m \u001b[0mKeyboardInterrupt\u001b[0m\u001b[0;34m:\u001b[0m\u001b[0;34m\u001b[0m\u001b[0;34m\u001b[0m\u001b[0m\n\u001b[1;32m    903\u001b[0m                 \u001b[0;31m# re-raise KeyboardInterrupt, to truncate traceback\u001b[0m\u001b[0;34m\u001b[0m\u001b[0;34m\u001b[0m\u001b[0;34m\u001b[0m\u001b[0m\n\u001b[0;32m--> 904\u001b[0;31m                 \u001b[0;32mraise\u001b[0m \u001b[0mKeyboardInterrupt\u001b[0m\u001b[0;34m(\u001b[0m\u001b[0;34m\"Interrupted by user\"\u001b[0m\u001b[0;34m)\u001b[0m \u001b[0;32mfrom\u001b[0m \u001b[0;32mNone\u001b[0m\u001b[0;34m\u001b[0m\u001b[0;34m\u001b[0m\u001b[0m\n\u001b[0m\u001b[1;32m    905\u001b[0m             \u001b[0;32mexcept\u001b[0m \u001b[0mException\u001b[0m \u001b[0;32mas\u001b[0m \u001b[0me\u001b[0m\u001b[0;34m:\u001b[0m\u001b[0;34m\u001b[0m\u001b[0;34m\u001b[0m\u001b[0m\n\u001b[1;32m    906\u001b[0m                 \u001b[0mself\u001b[0m\u001b[0;34m.\u001b[0m\u001b[0mlog\u001b[0m\u001b[0;34m.\u001b[0m\u001b[0mwarning\u001b[0m\u001b[0;34m(\u001b[0m\u001b[0;34m\"Invalid Message:\"\u001b[0m\u001b[0;34m,\u001b[0m \u001b[0mexc_info\u001b[0m\u001b[0;34m=\u001b[0m\u001b[0;32mTrue\u001b[0m\u001b[0;34m)\u001b[0m\u001b[0;34m\u001b[0m\u001b[0;34m\u001b[0m\u001b[0m\n",
            "\u001b[0;31mKeyboardInterrupt\u001b[0m: Interrupted by user"
          ]
        }
      ]
    },
    {
      "cell_type": "code",
      "execution_count": null,
      "metadata": {
        "id": "HRcw8tbNeTFa",
        "colab": {
          "base_uri": "https://localhost:8080/"
        },
        "outputId": "742499dd-8cab-403f-ddfa-6e25d289b73d"
      },
      "outputs": [
        {
          "output_type": "stream",
          "name": "stdout",
          "text": [
            "11\n",
            "not perfect\n"
          ]
        }
      ],
      "source": [
        "#task-14\n",
        "n=int(input())\n",
        "sum=0\n",
        "\n",
        "for a in range(1,n):\n",
        "  if(n%a==0):\n",
        "    sum=sum+a\n",
        "if(sum==n):\n",
        "  print(\"perfect\")\n",
        "else:\n",
        "  print(\"not perfect\")\n",
        "\n"
      ]
    },
    {
      "cell_type": "code",
      "source": [],
      "metadata": {
        "id": "aAa62Yk8quGe"
      },
      "execution_count": null,
      "outputs": []
    },
    {
      "cell_type": "code",
      "source": [
        "#5ask 15\n",
        "n=int(input())\n",
        "count=0\n",
        "for a in range(1,n+1):\n",
        "  if(n%a==0):\n",
        "    count+=1\n",
        "if(count==2):\n",
        "    print(n,\"prime num\")\n",
        "else:\n",
        "    print(n,\"not a prime num\")\n"
      ],
      "metadata": {
        "id": "jdbaXtIQbiZo",
        "colab": {
          "base_uri": "https://localhost:8080/"
        },
        "outputId": "aec1a568-f4f0-48fb-d9be-49f345f6d156"
      },
      "execution_count": null,
      "outputs": [
        {
          "output_type": "stream",
          "name": "stdout",
          "text": [
            "6\n",
            "6 not a prime num\n"
          ]
        }
      ]
    },
    {
      "cell_type": "code",
      "source": [
        "#task17\n",
        "n=int(input())\n",
        "for i in range (n):\n",
        "  for j in range (n):\n",
        "    print(\"+\",end=\"\")\n",
        "  print(\"\")"
      ],
      "metadata": {
        "id": "xdXaN7JEbidh",
        "colab": {
          "base_uri": "https://localhost:8080/"
        },
        "outputId": "a5134431-a7cb-4868-edce-ad0244fa42c3"
      },
      "execution_count": null,
      "outputs": [
        {
          "output_type": "stream",
          "name": "stdout",
          "text": [
            "6\n",
            "++++++\n",
            "++++++\n",
            "++++++\n",
            "++++++\n",
            "++++++\n",
            "++++++\n"
          ]
        }
      ]
    },
    {
      "cell_type": "code",
      "source": [
        "#task18\n",
        "n=int(input(\"Input n:\"))\n",
        "m=int(input(\"input m:\"))\n",
        "for i in range (1,n+1):\n",
        "  for j in range(1,m+1):\n",
        "    print(j,end=\"\")\n",
        "  print(\"\")"
      ],
      "metadata": {
        "colab": {
          "base_uri": "https://localhost:8080/"
        },
        "id": "N1nkDK_j_cGC",
        "outputId": "b46ba135-65b9-4bec-d3f6-a51780a105b7"
      },
      "execution_count": null,
      "outputs": [
        {
          "output_type": "stream",
          "name": "stdout",
          "text": [
            "Input n:4\n",
            "input m:6\n",
            "123456\n",
            "123456\n",
            "123456\n",
            "123456\n"
          ]
        }
      ]
    },
    {
      "cell_type": "code",
      "source": [
        "#task-19\n",
        "n=int(input())\n",
        "for i in range (1,n+1):\n",
        "  for j in range(1,i+1):\n",
        "    print(j,end=\" \")\n",
        "  print(\"\")"
      ],
      "metadata": {
        "colab": {
          "base_uri": "https://localhost:8080/"
        },
        "id": "k1tNLePp_b-D",
        "outputId": "154d9b0e-24b7-471d-99d5-864439efb284"
      },
      "execution_count": null,
      "outputs": [
        {
          "output_type": "stream",
          "name": "stdout",
          "text": [
            "4\n",
            "1 \n",
            "1 2 \n",
            "1 2 3 \n",
            "1 2 3 4 \n"
          ]
        }
      ]
    },
    {
      "cell_type": "code",
      "source": [
        "#25\n",
        "n=int(input())\n",
        "f_num=0\n",
        "s_num=1\n",
        "sum=0\n",
        "while(sum<n):\n",
        "  sum=f_num+s_num\n",
        "  f_num=s_num\n",
        "  s_num=sum\n",
        "#if(sum=n):\n",
        " # break\n",
        "  print(sum,end=\" \")\n"
      ],
      "metadata": {
        "id": "gS6PCk1Ybil1",
        "colab": {
          "base_uri": "https://localhost:8080/"
        },
        "outputId": "453a3222-5c4e-4f6f-f05d-8b81c503e139"
      },
      "execution_count": null,
      "outputs": [
        {
          "output_type": "stream",
          "name": "stdout",
          "text": [
            "11\n",
            "1 2 3 5 8 13 "
          ]
        }
      ]
    },
    {
      "cell_type": "code",
      "source": [
        "#task12\n",
        "n=int(input())\n",
        "x=n\n",
        "count=0\n",
        "while(n>0):\n",
        "  x=x//10\n",
        "  count=count+1\n",
        "while(n>0):\n",
        "  if(n>0):\n",
        "    a=n//10**(count-1)\n",
        "    print(a,end=\",\")\n",
        "  else:\n",
        "    print(a)\n",
        "  n=n%10**(count-1)\n",
        "\n",
        "print()"
      ],
      "metadata": {
        "colab": {
          "base_uri": "https://localhost:8080/",
          "height": 252
        },
        "id": "V9uZao_OpA1x",
        "outputId": "accbc2c2-d702-4b7e-ab33-3f83e34b790f"
      },
      "execution_count": null,
      "outputs": [
        {
          "name": "stdout",
          "output_type": "stream",
          "text": [
            "1234\n"
          ]
        },
        {
          "output_type": "error",
          "ename": "KeyboardInterrupt",
          "evalue": "ignored",
          "traceback": [
            "\u001b[0;31m---------------------------------------------------------------------------\u001b[0m",
            "\u001b[0;31mKeyboardInterrupt\u001b[0m                         Traceback (most recent call last)",
            "\u001b[0;32m<ipython-input-1-e84dd6a93723>\u001b[0m in \u001b[0;36m<module>\u001b[0;34m\u001b[0m\n\u001b[1;32m      4\u001b[0m \u001b[0mcount\u001b[0m\u001b[0;34m=\u001b[0m\u001b[0;36m0\u001b[0m\u001b[0;34m\u001b[0m\u001b[0;34m\u001b[0m\u001b[0m\n\u001b[1;32m      5\u001b[0m \u001b[0;32mwhile\u001b[0m\u001b[0;34m(\u001b[0m\u001b[0mn\u001b[0m\u001b[0;34m>\u001b[0m\u001b[0;36m0\u001b[0m\u001b[0;34m)\u001b[0m\u001b[0;34m:\u001b[0m\u001b[0;34m\u001b[0m\u001b[0;34m\u001b[0m\u001b[0m\n\u001b[0;32m----> 6\u001b[0;31m   \u001b[0mx\u001b[0m\u001b[0;34m=\u001b[0m\u001b[0mx\u001b[0m\u001b[0;34m//\u001b[0m\u001b[0;36m10\u001b[0m\u001b[0;34m\u001b[0m\u001b[0;34m\u001b[0m\u001b[0m\n\u001b[0m\u001b[1;32m      7\u001b[0m   \u001b[0mcount\u001b[0m\u001b[0;34m=\u001b[0m\u001b[0mcount\u001b[0m\u001b[0;34m+\u001b[0m\u001b[0;36m1\u001b[0m\u001b[0;34m\u001b[0m\u001b[0;34m\u001b[0m\u001b[0m\n\u001b[1;32m      8\u001b[0m \u001b[0;32mwhile\u001b[0m\u001b[0;34m(\u001b[0m\u001b[0mn\u001b[0m\u001b[0;34m>\u001b[0m\u001b[0;36m0\u001b[0m\u001b[0;34m)\u001b[0m\u001b[0;34m:\u001b[0m\u001b[0;34m\u001b[0m\u001b[0;34m\u001b[0m\u001b[0m\n",
            "\u001b[0;31mKeyboardInterrupt\u001b[0m: "
          ]
        }
      ]
    },
    {
      "cell_type": "code",
      "source": [
        "#12\n",
        "n=int(input())\n",
        "x=n\n",
        "count=0\n",
        "\n",
        "while(x>0):\n",
        "  x=x//10\n",
        "  count+=1\n",
        "\n",
        "y=10**(count-1)\n",
        "while(x>0):\n",
        "  a=n//y\n",
        "  n=n%y\n",
        "  y=y//10\n",
        "  if(n==0):\n",
        "    print(a,end=\"\")\n",
        "  else:\n",
        "    print(a,end=\",\")"
      ],
      "metadata": {
        "colab": {
          "base_uri": "https://localhost:8080/"
        },
        "id": "s6rJVWrDtn49",
        "outputId": "a009ef48-6d19-4714-9700-06e627f7a2a8"
      },
      "execution_count": null,
      "outputs": [
        {
          "name": "stdout",
          "output_type": "stream",
          "text": [
            "1234\n"
          ]
        }
      ]
    },
    {
      "cell_type": "code",
      "source": [],
      "metadata": {
        "id": "nVwKXlBjbipO"
      },
      "execution_count": null,
      "outputs": []
    }
  ],
  "metadata": {
    "colab": {
      "provenance": []
    },
    "kernelspec": {
      "display_name": "Python 3",
      "name": "python3"
    },
    "language_info": {
      "name": "python"
    }
  },
  "nbformat": 4,
  "nbformat_minor": 0
}