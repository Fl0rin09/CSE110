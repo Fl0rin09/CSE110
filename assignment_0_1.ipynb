{
  "nbformat": 4,
  "nbformat_minor": 0,
  "metadata": {
    "colab": {
      "provenance": [],
      "toc_visible": true
    },
    "kernelspec": {
      "name": "python3",
      "display_name": "Python 3"
    },
    "language_info": {
      "name": "python"
    }
  },
  "cells": [
    {
      "cell_type": "code",
      "execution_count": null,
      "metadata": {
        "colab": {
          "base_uri": "https://localhost:8080/"
        },
        "id": "N4VzQntAvzJR",
        "outputId": "ce127875-14f0-49a4-fa84-7f3b6152fb87"
      },
      "outputs": [
        {
          "output_type": "stream",
          "name": "stdout",
          "text": [
            "Hello World\n"
          ]
        }
      ],
      "source": [
        "#Task-1\n",
        "word=\"Hello World\"\n",
        "print(word)"
      ]
    },
    {
      "cell_type": "code",
      "source": [
        "#Task-2\n",
        "A=54\n",
        "B=56\n",
        "print(A+B)"
      ],
      "metadata": {
        "colab": {
          "base_uri": "https://localhost:8080/"
        },
        "id": "vGiwv9Jx0s66",
        "outputId": "89fd2409-b184-4c6a-b09b-d6def79e03c3"
      },
      "execution_count": null,
      "outputs": [
        {
          "output_type": "stream",
          "name": "stdout",
          "text": [
            "110\n"
          ]
        }
      ]
    },
    {
      "cell_type": "code",
      "source": [
        "#Task-3\n",
        "season=\"Fall\"\n",
        "print(season)\n",
        "year=\"2022\"\n",
        "print(year)"
      ],
      "metadata": {
        "colab": {
          "base_uri": "https://localhost:8080/"
        },
        "id": "eKYjcQN_0s_H",
        "outputId": "4cac05b9-ba60-44f2-9064-a5a3d33de4c2"
      },
      "execution_count": null,
      "outputs": [
        {
          "output_type": "stream",
          "name": "stdout",
          "text": [
            "Fall\n",
            "2022\n"
          ]
        }
      ]
    },
    {
      "cell_type": "code",
      "source": [
        "#Task-4\n",
        "person_name_1=input()\n",
        "print(\"your name is \",person_name_1)"
      ],
      "metadata": {
        "id": "RyAzFrhk0tCN",
        "colab": {
          "base_uri": "https://localhost:8080/"
        },
        "outputId": "f9bc7452-34d6-4e5d-c36b-98f5ac294c34"
      },
      "execution_count": null,
      "outputs": [
        {
          "output_type": "stream",
          "name": "stdout",
          "text": [
            "john\n",
            "your name is  john\n"
          ]
        }
      ]
    },
    {
      "cell_type": "code",
      "source": [
        "#Task-5\n",
        "M=int(input())\n",
        "N=int(input())\n",
        "\n",
        "print(f\"{M}^{N}:{M**N}\")"
      ],
      "metadata": {
        "id": "3KPNTThD0tFh",
        "colab": {
          "base_uri": "https://localhost:8080/"
        },
        "outputId": "f0ae54ce-f357-4827-b3b5-25d754b0bafb"
      },
      "execution_count": null,
      "outputs": [
        {
          "output_type": "stream",
          "name": "stdout",
          "text": [
            "2\n",
            "3\n",
            "2^3:8\n"
          ]
        }
      ]
    },
    {
      "cell_type": "code",
      "source": [
        "#Task-6\n",
        "weight=int(input())\n",
        "each_corner=weight//4\n",
        "capacity=each_corner*4\n",
        "print(capacity)"
      ],
      "metadata": {
        "id": "Aol_NiuE96jM",
        "colab": {
          "base_uri": "https://localhost:8080/"
        },
        "outputId": "db27a863-ebab-4b98-e6d2-6f9ac108842e"
      },
      "execution_count": null,
      "outputs": [
        {
          "output_type": "stream",
          "name": "stdout",
          "text": [
            "23\n",
            "20\n"
          ]
        }
      ]
    },
    {
      "cell_type": "code",
      "source": [
        "#Task-6.1\n",
        "weight=int(input())\n",
        "reminder=weight%4\n",
        "capacity=weight-reminder\n",
        "print(capacity)"
      ],
      "metadata": {
        "id": "c9mlQP0U96nY",
        "colab": {
          "base_uri": "https://localhost:8080/"
        },
        "outputId": "f68ac340-a640-4c07-b6ac-092e78f557ff"
      },
      "execution_count": null,
      "outputs": [
        {
          "output_type": "stream",
          "name": "stdout",
          "text": [
            "23\n",
            "20\n"
          ]
        }
      ]
    },
    {
      "cell_type": "code",
      "source": [
        "#Task-7\n",
        "A=int(input())\n",
        "B=int(input())\n",
        "C=int(input())\n",
        "D=float(input())\n",
        "print(int(A**C+B*A-D/3))"
      ],
      "metadata": {
        "id": "nnUsRpTx96tU",
        "colab": {
          "base_uri": "https://localhost:8080/"
        },
        "outputId": "8690f477-bbf4-4afa-9913-bbea8a0f7e0a"
      },
      "execution_count": null,
      "outputs": [
        {
          "output_type": "stream",
          "name": "stdout",
          "text": [
            "2\n",
            "6\n",
            "8\n",
            "1.3\n",
            "267\n"
          ]
        }
      ]
    },
    {
      "cell_type": "code",
      "source": [
        "#Task-8\n",
        "total=int(input(\"enter your total chocolate: \"))\n",
        "reminder=total%3\n",
        "A=total-reminder\n",
        "B=A//3\n",
        "print(\"Each friend will receive\" ,B,\"chocolates\")\n",
        "print(\"the number of remaining chocolates is\",reminder)"
      ],
      "metadata": {
        "id": "jVCiO_-WSxuQ",
        "colab": {
          "base_uri": "https://localhost:8080/"
        },
        "outputId": "9ec863ca-a213-4a60-a7be-c985b63a3696"
      },
      "execution_count": null,
      "outputs": [
        {
          "output_type": "stream",
          "name": "stdout",
          "text": [
            "enter your total chocolate: 50\n",
            "Each friend will receive 16 chocolates\n",
            "the number of remaining chocolates is 2\n"
          ]
        }
      ]
    },
    {
      "cell_type": "code",
      "source": [
        "#task-9\n",
        "M=input()\n",
        "N=input()\n",
        "print(N+M)"
      ],
      "metadata": {
        "id": "-s4YUD-MSxxH",
        "colab": {
          "base_uri": "https://localhost:8080/"
        },
        "outputId": "87b64264-18db-4272-81d2-aa6394b72fd8"
      },
      "execution_count": null,
      "outputs": [
        {
          "output_type": "stream",
          "name": "stdout",
          "text": [
            "5\n",
            "2\n",
            "25\n"
          ]
        }
      ]
    }
  ]
}